{
 "cells": [
  {
   "cell_type": "markdown",
   "id": "177ae743",
   "metadata": {},
   "source": [
    "# 유튜브 랭킹 데이터 수집하기"
   ]
  },
  {
   "cell_type": "code",
   "execution_count": 6,
   "id": "27ce7972",
   "metadata": {},
   "outputs": [],
   "source": [
    "# 라이브러리 추가하기\n",
    "from selenium import webdriver\n",
    "from bs4 import BeautifulSoup\n",
    "import time\n",
    "import pandas as pd"
   ]
  },
  {
   "cell_type": "code",
   "execution_count": 7,
   "id": "ebe5cc4c",
   "metadata": {},
   "outputs": [],
   "source": [
    "# webdriver로 사파리 브라우저 실행하기\n",
    "browser = webdriver.Safari()\n",
    "url = \"https://youtube-rank.com/board/bbs/board.php?bo_table=youtube\"\n",
    "browser.get(url)"
   ]
  },
  {
   "cell_type": "code",
   "execution_count": 8,
   "id": "2b294e19",
   "metadata": {},
   "outputs": [],
   "source": [
    "# 페이지 정보 가져오기\n",
    "html = browser.page_source\n",
    "soup = BeautifulSoup(html, 'html.parser')"
   ]
  },
  {
   "cell_type": "code",
   "execution_count": 9,
   "id": "aee576e4",
   "metadata": {},
   "outputs": [
    {
     "data": {
      "text/plain": [
       "100"
      ]
     },
     "execution_count": 9,
     "metadata": {},
     "output_type": "execute_result"
    }
   ],
   "source": [
    "# BeautifulSoup으로 tr 태그 추출하기\n",
    "channel_list = soup.select('form > table > tbody > tr')\n",
    "\n",
    "len(channel_list)"
   ]
  },
  {
   "cell_type": "code",
   "execution_count": 10,
   "id": "24113220",
   "metadata": {},
   "outputs": [
    {
     "name": "stdout",
     "output_type": "stream",
     "text": [
      "<tr class=\"aos-init aos-animate\" data-aos=\"fade-up\" data-aos-duration=\"800\">\n",
      "<td class=\"rank\">\n",
      "                        1                    </td>\n",
      "<td class=\"td_img\">\n",
      "<div class=\"info_img\"><a href=\"https://youtube-rank.com/board/bbs/board.php?bo_table=youtube&amp;wr_id=3203\"><img class=\"lazyload\" data-src=\"https://yt3.ggpht.com/ytc/AKedOLSWxQF3kaqYMX1MWVVzNkNZaM-3EU551f2orOqykA=s88-c-k-c0x00ffffff-no-rj-mo\" height=\"88\" src=\"https://yt3.ggpht.com/ytc/AKedOLSWxQF3kaqYMX1MWVVzNkNZaM-3EU551f2orOqykA=s88-c-k-c0x00ffffff-no-rj-mo\" width=\"88\"/></a></div>\n",
      "<p class=\"info_rank\">1</p>\n",
      "</td>\n",
      "<td class=\"subject\">\n",
      "<h1>\n",
      "<p <a=\"\" class=\"category\" href=\"https://youtube-rank.com/board/bbs/board.php?bo_table=youtube&amp;sca=%EC%9D%8C%EC%95%85%2F%EB%8C%84%EC%8A%A4%2F%EA%B0%80%EC%88%98\">[음악/댄스/가수]\n",
      "                                \n",
      "                                </p>\n",
      "<a href=\"https://youtube-rank.com/board/bbs/board.php?bo_table=youtube&amp;wr_id=3203\">\n",
      "\t\t\t\t\t\t\t\t\n",
      "\t\t\t\t\t\t\t\tBLACKPINK\t\t\t\t\t\t\t</a>\n",
      "<span>\n",
      "<i class=\"fa fa-comment\"></i>\n",
      "\t\t\t\t\t\t\t\t1\t\t\t\t\t\t\t</span>\n",
      "<i aria-hidden=\"true\" class=\"fa fa-heart\"></i> </h1>\n",
      "<h2><span><a href=\"https://youtube-rank.com/board/bbs/board.php?bo_table=youtube&amp;wr_id=3203\">\"YG Entertainment\" YG 와이지 K-pop BLACKPINK 블랙핑크 블핑 제니 로제 리사 지수 Lisa Jisoo Jennie ...</a></span></h2>\n",
      "<h3>\n",
      "<i class=\"fa fa-user\"></i>\n",
      "                            7170만<i class=\"fa fa-play\"></i>222억0087만                            <i class=\"fa fa-video-camera\"></i>\n",
      "                            395                            <i class=\"fa fa-eye\"></i>\n",
      "                            18,404                        </h3>\n",
      "</td>\n",
      "<td class=\"subscriber_cnt\">7170만</td>\n",
      "<td class=\"view_cnt\">222억0087만</td>\n",
      "<td class=\"video_cnt\">395개</td>\n",
      "<td class=\"hit\">\n",
      "<strong>18,404</strong>\n",
      "<span>HIT</span>\n",
      "</td>\n",
      "</tr>\n"
     ]
    }
   ],
   "source": [
    "# 채널태그출력 및 태그구조 확인하기\n",
    "channel = channel_list[0]\n",
    "\n",
    "print(channel)"
   ]
  },
  {
   "cell_type": "code",
   "execution_count": 11,
   "id": "eaa74987",
   "metadata": {},
   "outputs": [
    {
     "data": {
      "text/plain": [
       "'[음악/댄스/가수]'"
      ]
     },
     "execution_count": 11,
     "metadata": {},
     "output_type": "execute_result"
    }
   ],
   "source": [
    "# 카테고리 정보 추출하기\n",
    "category = channel.select('p.category')[0].text.strip()    #strip() 공백 제거\n",
    "\n",
    "category"
   ]
  },
  {
   "cell_type": "code",
   "execution_count": 12,
   "id": "eb3b33b2",
   "metadata": {},
   "outputs": [
    {
     "data": {
      "text/plain": [
       "'BLACKPINK'"
      ]
     },
     "execution_count": 12,
     "metadata": {},
     "output_type": "execute_result"
    }
   ],
   "source": [
    "# 채널명 찾아오기\n",
    "\n",
    "title = channel.select('h1 > a')[0].text.strip()\n",
    "\n",
    "title"
   ]
  },
  {
   "cell_type": "code",
   "execution_count": 13,
   "id": "85515525",
   "metadata": {},
   "outputs": [
    {
     "name": "stdout",
     "output_type": "stream",
     "text": [
      "7170만\n",
      "222억0087만\n",
      "395개\n"
     ]
    }
   ],
   "source": [
    "# 구독자 수, View 수, 동영상 수 추출하기\n",
    "\n",
    "subscriber = channel.select('td.subscriber_cnt')[0].text\n",
    "view = channel.select('td.view_cnt')[0].text\n",
    "video = channel.select('td.video_cnt')[0].text\n",
    "\n",
    "print(subscriber)\n",
    "print(view)\n",
    "print(video)"
   ]
  },
  {
   "cell_type": "code",
   "execution_count": 14,
   "id": "3ddd8373",
   "metadata": {},
   "outputs": [
    {
     "name": "stdout",
     "output_type": "stream",
     "text": [
      "BLACKPINK [음악/댄스/가수] 7170만 222억0087만 395개\n",
      "HYBE LABELS [음악/댄스/가수] 6380만 211억8292만 792개\n",
      "BANGTANTV [음악/댄스/가수] 6330만 148억3005만 1,669개\n",
      "SMTOWN [음악/댄스/가수] 2970만 235억5015만 3,849개\n",
      "Boram Tube Vlog [보람튜브 브이로그] [키즈/어린이] 2650만 110억5288만 223개\n",
      "1MILLION Dance Studio [음악/댄스/가수] 2480만 70억2917만 3,558개\n",
      "1theK (원더케이) [음악/댄스/가수] 2380만 216억0073만 15,877개\n",
      "JYP Entertainment [음악/댄스/가수] 2350만 154억4194만 1,437개\n",
      "Mnet K-POP [음악/댄스/가수] 1920만 142억7495만 27,068개\n",
      "KBS WORLD TV [TV/방송] 1740만 131억3149만 54,952개\n",
      "JFlaMusic [음악/댄스/가수] 1740만 35억3753만 282개\n",
      "Jane ASMR 제인 [음식/요리/레시피] 1590만 57억5468만 1,349개\n",
      "officialpsy [음악/댄스/가수] 1540만 89억3322만 91개\n",
      "BIGBANG [음악/댄스/가수] 1400만 69억0179만 773개\n",
      "TWICE [음악/댄스/가수] 1300만 29억2240만 730개\n",
      "Hongyu ASMR 홍유 [음식/요리/레시피] 1130만 33억2275만 436개\n",
      "Nao FunFun [키즈/어린이] 1070만 462만 33개\n",
      "Stone Music Entertainment [음악/댄스/가수] 1020만 84억3241만 8,479개\n",
      "DuDuPopTOY [키즈/어린이] 1020만 45억8809만 1,981개\n",
      "핑크퐁 (인기 동요・동화) [키즈/어린이] 1010만 61억5090만 2,452개\n",
      "Toymong tv 토이몽TV [키즈/어린이] 977만 40억3553만 1,961개\n",
      "MBCkpop [TV/방송] 973만 77억9343만 42,244개\n",
      "Larva TUBA [키즈/어린이] 958만 41억9648만 2,961개\n",
      "서은이야기[SeoeunStory] [키즈/어린이] 943만 40억7569만 1,041개\n",
      "[햄지]Hamzy [음식/요리/레시피] 879만 26억5449만 384개\n",
      "Mnet TV [음악/댄스/가수] 876만 103억9299만 19,501개\n",
      "EXO [음악/댄스/가수] 864만 5억5929만 241개\n",
      "TOMORROW X TOGETHER OFFICIAL [음악/댄스/가수] 859만 6억4401만 955개\n",
      "MBCentertainment [뉴스/정치/사회] 856만 151억4914만 89,088개\n",
      "Stray Kids [음악/댄스/가수] 848만 14억3690만 541개\n",
      "iKON [음악/댄스/가수] 846만 21억8794만 475개\n",
      "M2 [TV/방송] 798만 61억4664만 15,256개\n",
      "Serie A [해외] 786만 27억0303만 21,717개\n",
      "MariAndKids [키즈/어린이] 756만 23억3119만 810개\n",
      "쏘영 Ssoyoung [음식/요리/레시피] 742만 7억6770만 534개\n",
      "SEVENTEEN [음악/댄스/가수] 742만 25억1074만 997개\n",
      "이지금 [IU Official] [음악/댄스/가수] 729만 12억5180만 139개\n",
      "SonicToy소닉토이 [키즈/어린이] 728만 30억3181만 163개\n",
      "문복희 Eat with Boki [음식/요리/레시피] 721만 17억2547만 517개\n",
      "JTBC Entertainment [뉴스/정치/사회] 712만 103억3480만 67,772개\n",
      "Sungha Jung [음악/댄스/가수] 683만 19억0153만 1,306개\n",
      "KBS Kpop [TV/방송] 668만 52억5320만 31,359개\n",
      "ITZY [음악/댄스/가수] 659만 12억7260만 530개\n",
      "Pixar [미분류] 656만 32억5309만 695개\n",
      "YG ENTERTAINMENT [음악/댄스/가수] 655만 16억6905만 389개\n",
      "ALL THE K-POP [음악/댄스/가수] 654만 40억4561만 21,302개\n",
      "MAMAMOO [음악/댄스/가수] 648만 18억5483만 646개\n",
      "스브스케이팝 / SBS KPOP [TV/방송] 633만 44억2545만 28,153개\n",
      "GOT7 [음악/댄스/가수] 615만 7억8838만 579개\n",
      "SBS Entertainment [TV/방송] 610만 72억8252만 219,532개\n",
      "tvN drama [TV/방송] 602만 61억9658만 39,346개\n",
      "Samsung [회사/오피셜] 596만 13억1888만 1,614개\n",
      "PONY Syndrome [패션/미용] 592만 3억4767만 200개\n",
      "SBS Drama [TV/방송] 589만 62억2246만 342,163개\n",
      "[장난감티비]TOYTV [키즈/어린이] 588만 28억8787만 1,550개\n",
      "야미보이 Yummyboy [음식/요리/레시피] 587만 21억6425만 914개\n",
      "미니특공대TV [키즈/어린이] 586만 33억0105만 1,219개\n",
      "스위트티비 SweetTV [키즈/어린이] 562만 27억3553만 514개\n",
      "2NE1 [음악/댄스/가수] 539만 20억1144만 321개\n",
      "tzuyang쯔양 [음식/요리/레시피] 535만 8억8311만 313개\n",
      "백종원의 요리비책 Paik's Cuisine [음식/요리/레시피] 526만 5억9724만 375개\n",
      "콩순이 Kongsuni [키즈/어린이] 520만 46억5643만 1,299개\n",
      "[Awesome Haeun]어썸하은 [BJ/인물/연예인] 519만 8억2688만 521개\n",
      "starshipTV [음악/댄스/가수] 510만 29억6135만 1,999개\n",
      "TREASURE (트레저) [음악/댄스/가수] 496만 10억0154만 331개\n",
      "베이비버스 -인기 동요・동화 [키즈/어린이] 495만 33억6067만 1,361개\n",
      "ToyMart TV [키즈/어린이] 491만 21억4938만 651개\n",
      "TOY GUMA [키즈/어린이] 491만 16억2006만 306개\n",
      "BT21 [음악/댄스/가수] 490만 4억0667만 221개\n",
      "SBS NOW / SBS 공식 채널 [뉴스/정치/사회] 481만 48억4568만 20,721개\n",
      "NCT [음악/댄스/가수] 480만 3억8941만 294개\n",
      "With Kids Playground [위드키즈 놀이터] [키즈/어린이] 478만 17억9754만 417개\n",
      "Red Velvet [음악/댄스/가수] 469만 7억5080만 154개\n",
      "푸메Fume [음식/요리/레시피] 466만 9억6720만 516개\n",
      "KBS Entertain [TV/방송] 464만 75억6660만 103,940개\n",
      "떵개떵 [음식/요리/레시피] 460만 26억4053만 4,485개\n",
      "MBCdrama [TV/방송] 458만 51억8798만 55,385개\n",
      "ASTRO 아스트로 [음악/댄스/가수] 458만 4억5859만 478개\n",
      "영국남자 Korean Englishman [BJ/인물/연예인] 455만 14억8744만 448개\n",
      "뽀로로(Pororo) [키즈/어린이] 451만 61억4734만 3,744개\n",
      "JTBC Drama [TV/방송] 443만 44억8338만 24,177개\n",
      "하루한끼 one meal a day [음식/요리/레시피] 440만 4억3330만 177개\n",
      "NCT 127 [음악/댄스/가수] 438만 5억1866만 297개\n",
      "NCT DREAM [음악/댄스/가수] 435만 5억0806만 246개\n",
      "채널 NCT DAILY [TV/방송] 435만 7억7725만 467개\n",
      "SBS TV동물농장x애니멀봐 [애완/반려동물] 434만 39억6654만 3,270개\n",
      "Cooking tree 쿠킹트리 [음식/요리/레시피] 434만 4억1029만 1,202개\n",
      "슈슈토이 Shushu ToysReview [키즈/어린이] 430만 16억1847만 661개\n",
      "까니짱 [ G-NI ] [음식/요리/레시피] 427만 11억4087만 559개\n",
      "EA SPORTS FIFA [게임] 426만 8억0532만 796개\n",
      "Raon [음악/댄스/가수] 425만 9억7401만 301개\n",
      "로미유 스토리[Romiyu Story] [키즈/어린이] 420만 11억0604만 434개\n",
      "[Dorothy]도로시 [음식/요리/레시피] 416만 10억0332만 907개\n",
      "JaeYeol ASMR 재열 [취미/라이프] 401만 11억1924만 1,042개\n",
      "CoCosToy 꼬꼬스토이 [키즈/어린이] 397만 22억6656만 667개\n",
      "허팝Heopop [BJ/인물/연예인] 386만 33억1809만 1,917개\n",
      "WINNER [음악/댄스/가수] 382만 12억3326만 461개\n",
      "워크맨-Workman [TV/방송] 381만 7억8147만 165개\n",
      "크림히어로즈 [애완/반려동물] 377만 14억4116만 1,027개\n",
      "Lime Tube[라임튜브] [키즈/어린이] 375만 26억7308만 1,841개\n"
     ]
    },
    {
     "ename": "IndexError",
     "evalue": "list index out of range",
     "output_type": "error",
     "traceback": [
      "\u001b[0;31m---------------------------------------------------------------------------\u001b[0m",
      "\u001b[0;31mIndexError\u001b[0m                                Traceback (most recent call last)",
      "\u001b[0;32m/var/folders/xx/_99p48vj7pg7bs_kpl7838_00000gn/T/ipykernel_57008/2638613801.py\u001b[0m in \u001b[0;36m<module>\u001b[0;34m\u001b[0m\n\u001b[1;32m      3\u001b[0m \u001b[0mchannel_list\u001b[0m \u001b[0;34m=\u001b[0m \u001b[0msoup\u001b[0m\u001b[0;34m.\u001b[0m\u001b[0mselect\u001b[0m\u001b[0;34m(\u001b[0m\u001b[0;34m'tbody > tr'\u001b[0m\u001b[0;34m)\u001b[0m\u001b[0;34m\u001b[0m\u001b[0;34m\u001b[0m\u001b[0m\n\u001b[1;32m      4\u001b[0m \u001b[0;32mfor\u001b[0m \u001b[0mchannel\u001b[0m \u001b[0;32min\u001b[0m \u001b[0mchannel_list\u001b[0m \u001b[0;34m:\u001b[0m\u001b[0;34m\u001b[0m\u001b[0;34m\u001b[0m\u001b[0m\n\u001b[0;32m----> 5\u001b[0;31m     \u001b[0mtitle\u001b[0m \u001b[0;34m=\u001b[0m \u001b[0mchannel\u001b[0m\u001b[0;34m.\u001b[0m\u001b[0mselect\u001b[0m\u001b[0;34m(\u001b[0m\u001b[0;34m'h1 > a'\u001b[0m\u001b[0;34m)\u001b[0m\u001b[0;34m[\u001b[0m\u001b[0;36m0\u001b[0m\u001b[0;34m]\u001b[0m\u001b[0;34m.\u001b[0m\u001b[0mtext\u001b[0m\u001b[0;34m.\u001b[0m\u001b[0mstrip\u001b[0m\u001b[0;34m(\u001b[0m\u001b[0;34m)\u001b[0m\u001b[0;34m\u001b[0m\u001b[0;34m\u001b[0m\u001b[0m\n\u001b[0m\u001b[1;32m      6\u001b[0m     \u001b[0mcategory\u001b[0m \u001b[0;34m=\u001b[0m \u001b[0mchannel\u001b[0m\u001b[0;34m.\u001b[0m\u001b[0mselect\u001b[0m\u001b[0;34m(\u001b[0m\u001b[0;34m'p.category'\u001b[0m\u001b[0;34m)\u001b[0m\u001b[0;34m[\u001b[0m\u001b[0;36m0\u001b[0m\u001b[0;34m]\u001b[0m\u001b[0;34m.\u001b[0m\u001b[0mtext\u001b[0m\u001b[0;34m.\u001b[0m\u001b[0mstrip\u001b[0m\u001b[0;34m(\u001b[0m\u001b[0;34m)\u001b[0m\u001b[0;34m\u001b[0m\u001b[0;34m\u001b[0m\u001b[0m\n\u001b[1;32m      7\u001b[0m     \u001b[0msubscriber\u001b[0m \u001b[0;34m=\u001b[0m \u001b[0mchannel\u001b[0m\u001b[0;34m.\u001b[0m\u001b[0mselect\u001b[0m\u001b[0;34m(\u001b[0m\u001b[0;34m'td.subscriber_cnt'\u001b[0m\u001b[0;34m)\u001b[0m\u001b[0;34m[\u001b[0m\u001b[0;36m0\u001b[0m\u001b[0;34m]\u001b[0m\u001b[0;34m.\u001b[0m\u001b[0mtext\u001b[0m\u001b[0;34m\u001b[0m\u001b[0;34m\u001b[0m\u001b[0m\n",
      "\u001b[0;31mIndexError\u001b[0m: list index out of range"
     ]
    }
   ],
   "source": [
    "# 반복문로 채널 정보 추출하기\n",
    "\n",
    "channel_list = soup.select('tbody > tr')\n",
    "for channel in channel_list :\n",
    "    title = channel.select('h1 > a')[0].text.strip()\n",
    "    category = channel.select('p.category')[0].text.strip()\n",
    "    subscriber = channel.select('td.subscriber_cnt')[0].text\n",
    "    view = channel.select('td.view_cnt')[0].text\n",
    "    video = channel.select('td.video_cnt')[0].text\n",
    "    \n",
    "    print(title, category, subscriber, view, video)"
   ]
  },
  {
   "cell_type": "code",
   "execution_count": 15,
   "id": "d51c4b36",
   "metadata": {},
   "outputs": [
    {
     "name": "stdout",
     "output_type": "stream",
     "text": [
      "https://youtube-rank.com/board/bbs/board.php?bo_table=youtube&page=1\n"
     ]
    }
   ],
   "source": [
    "# 페이지별 URL 만들기\n",
    "\n",
    "page = 1\n",
    "url = 'https://youtube-rank.com/board/bbs/board.php?bo_table=youtube&page={}'.format(page)\n",
    "print(url)"
   ]
  },
  {
   "cell_type": "code",
   "execution_count": 16,
   "id": "abdcc3d7",
   "metadata": {},
   "outputs": [],
   "source": [
    "# 반복문으로 유튜브 랭킹 화면의 여러 페이지를 크롤링하기\n",
    "\n",
    "results = []\n",
    "for page in range(1,11):\n",
    "    url = 'https://youtube-rank.com/board/bbs/board.php?bo_table=youtube&page={}'.format(page)\n",
    "    browser.get(url)\n",
    "    time.sleep(2)\n",
    "    html = browser.page_source\n",
    "    soup = BeautifulSoup(html, 'html.parser')\n",
    "    channel_list = soup.select('form > table > tbody > tr')\n",
    "    \n",
    "    for channel in channel_list :\n",
    "        title = channel.select('h1 > a')[0].text.strip()\n",
    "        category = channel.select('p.category')[0].text.strip()\n",
    "        subscriber = channel.select('td.subscriber_cnt')[0].text\n",
    "        view = channel.select('td.view_cnt')[0].text\n",
    "        video = channel.select('td.video_cnt')[0].text\n",
    "        data = [title, category, subscriber, view, video]\n",
    "        results.append(data)          "
   ]
  },
  {
   "cell_type": "code",
   "execution_count": 17,
   "id": "493980fb",
   "metadata": {},
   "outputs": [],
   "source": [
    "df = pd.DataFrame(results)\n",
    "df.columns = ['title', 'category', 'subscriber', 'view', 'video']\n",
    "df.to_excel('./files/youtube_rank.xlsx', index = False)"
   ]
  },
  {
   "cell_type": "code",
   "execution_count": 18,
   "id": "7791f34e",
   "metadata": {},
   "outputs": [
    {
     "data": {
      "text/html": [
       "<div>\n",
       "<style scoped>\n",
       "    .dataframe tbody tr th:only-of-type {\n",
       "        vertical-align: middle;\n",
       "    }\n",
       "\n",
       "    .dataframe tbody tr th {\n",
       "        vertical-align: top;\n",
       "    }\n",
       "\n",
       "    .dataframe thead th {\n",
       "        text-align: right;\n",
       "    }\n",
       "</style>\n",
       "<table border=\"1\" class=\"dataframe\">\n",
       "  <thead>\n",
       "    <tr style=\"text-align: right;\">\n",
       "      <th></th>\n",
       "      <th>title</th>\n",
       "      <th>category</th>\n",
       "      <th>subscriber</th>\n",
       "      <th>view</th>\n",
       "      <th>video</th>\n",
       "    </tr>\n",
       "  </thead>\n",
       "  <tbody>\n",
       "    <tr>\n",
       "      <th>0</th>\n",
       "      <td>BLACKPINK</td>\n",
       "      <td>[음악/댄스/가수]</td>\n",
       "      <td>7170만</td>\n",
       "      <td>222억0087만</td>\n",
       "      <td>395개</td>\n",
       "    </tr>\n",
       "    <tr>\n",
       "      <th>1</th>\n",
       "      <td>HYBE LABELS</td>\n",
       "      <td>[음악/댄스/가수]</td>\n",
       "      <td>6380만</td>\n",
       "      <td>211억8292만</td>\n",
       "      <td>792개</td>\n",
       "    </tr>\n",
       "    <tr>\n",
       "      <th>2</th>\n",
       "      <td>BANGTANTV</td>\n",
       "      <td>[음악/댄스/가수]</td>\n",
       "      <td>6330만</td>\n",
       "      <td>148억3005만</td>\n",
       "      <td>1,669개</td>\n",
       "    </tr>\n",
       "    <tr>\n",
       "      <th>3</th>\n",
       "      <td>SMTOWN</td>\n",
       "      <td>[음악/댄스/가수]</td>\n",
       "      <td>2970만</td>\n",
       "      <td>235억5015만</td>\n",
       "      <td>3,849개</td>\n",
       "    </tr>\n",
       "    <tr>\n",
       "      <th>4</th>\n",
       "      <td>Boram Tube Vlog [보람튜브 브이로그]</td>\n",
       "      <td>[키즈/어린이]</td>\n",
       "      <td>2650만</td>\n",
       "      <td>110억5288만</td>\n",
       "      <td>223개</td>\n",
       "    </tr>\n",
       "    <tr>\n",
       "      <th>...</th>\n",
       "      <td>...</td>\n",
       "      <td>...</td>\n",
       "      <td>...</td>\n",
       "      <td>...</td>\n",
       "      <td>...</td>\n",
       "    </tr>\n",
       "    <tr>\n",
       "      <th>995</th>\n",
       "      <td>다영 DAYEONG</td>\n",
       "      <td>[패션/미용]</td>\n",
       "      <td>56만</td>\n",
       "      <td>7785만</td>\n",
       "      <td>375개</td>\n",
       "    </tr>\n",
       "    <tr>\n",
       "      <th>996</th>\n",
       "      <td>디렉터 짱구대디</td>\n",
       "      <td>[패션/미용]</td>\n",
       "      <td>56만</td>\n",
       "      <td>1억8779만</td>\n",
       "      <td>1,860개</td>\n",
       "    </tr>\n",
       "    <tr>\n",
       "      <th>997</th>\n",
       "      <td>Arirang은 고양이들내가 주인</td>\n",
       "      <td>[애완/반려동물]</td>\n",
       "      <td>56만</td>\n",
       "      <td>1억7478만</td>\n",
       "      <td>418개</td>\n",
       "    </tr>\n",
       "    <tr>\n",
       "      <th>998</th>\n",
       "      <td>효크포크 Krazy girl</td>\n",
       "      <td>[TV/방송]</td>\n",
       "      <td>56만</td>\n",
       "      <td>1억2715만</td>\n",
       "      <td>127개</td>\n",
       "    </tr>\n",
       "    <tr>\n",
       "      <th>999</th>\n",
       "      <td>방앗간 비둘기</td>\n",
       "      <td>[게임]</td>\n",
       "      <td>56만</td>\n",
       "      <td>3억6249만</td>\n",
       "      <td>4,404개</td>\n",
       "    </tr>\n",
       "  </tbody>\n",
       "</table>\n",
       "<p>1000 rows × 5 columns</p>\n",
       "</div>"
      ],
      "text/plain": [
       "                           title    category subscriber       view   video\n",
       "0                      BLACKPINK  [음악/댄스/가수]      7170만  222억0087만    395개\n",
       "1                    HYBE LABELS  [음악/댄스/가수]      6380만  211억8292만    792개\n",
       "2                      BANGTANTV  [음악/댄스/가수]      6330만  148억3005만  1,669개\n",
       "3                         SMTOWN  [음악/댄스/가수]      2970만  235억5015만  3,849개\n",
       "4    Boram Tube Vlog [보람튜브 브이로그]    [키즈/어린이]      2650만  110억5288만    223개\n",
       "..                           ...         ...        ...        ...     ...\n",
       "995                   다영 DAYEONG     [패션/미용]        56만      7785만    375개\n",
       "996                     디렉터 짱구대디     [패션/미용]        56만    1억8779만  1,860개\n",
       "997           Arirang은 고양이들내가 주인   [애완/반려동물]        56만    1억7478만    418개\n",
       "998              효크포크 Krazy girl     [TV/방송]        56만    1억2715만    127개\n",
       "999                      방앗간 비둘기        [게임]        56만    3억6249만  4,404개\n",
       "\n",
       "[1000 rows x 5 columns]"
      ]
     },
     "execution_count": 18,
     "metadata": {},
     "output_type": "execute_result"
    }
   ],
   "source": [
    "df"
   ]
  },
  {
   "cell_type": "markdown",
   "id": "2b71d5c5",
   "metadata": {},
   "source": [
    "## 유튜브 랭킹 데이터 시각화하기"
   ]
  },
  {
   "cell_type": "code",
   "execution_count": 19,
   "id": "cde5c0cc",
   "metadata": {},
   "outputs": [],
   "source": [
    "# 라이브러리 추가하기\n",
    "import pandas as pd\n",
    "import matplotlib.pyplot as plt"
   ]
  },
  {
   "cell_type": "code",
   "execution_count": 20,
   "id": "d99a2675",
   "metadata": {},
   "outputs": [],
   "source": [
    "# 그래프에서 한글을 표기하기 위한 글꼴 변경(윈도우, macOS에 대해 각각 처리)\n",
    "from matplotlib import font_manager, rc\n",
    "import platform\n",
    "if platform.system() == 'Windows':\n",
    "    path = 'c:/Windows/Fonts/malgun.ttf'\n",
    "    font_name = font_manager.FontProperties(fname = path).get_name()\n",
    "    rc('font', family = font_name)\n",
    "elif platform.system() == 'Darwin':\n",
    "    rc('font', family = 'AppleGothic')\n",
    "else:\n",
    "    print('Check your OS system')"
   ]
  },
  {
   "cell_type": "code",
   "execution_count": 21,
   "id": "80725537",
   "metadata": {},
   "outputs": [
    {
     "data": {
      "text/html": [
       "<div>\n",
       "<style scoped>\n",
       "    .dataframe tbody tr th:only-of-type {\n",
       "        vertical-align: middle;\n",
       "    }\n",
       "\n",
       "    .dataframe tbody tr th {\n",
       "        vertical-align: top;\n",
       "    }\n",
       "\n",
       "    .dataframe thead th {\n",
       "        text-align: right;\n",
       "    }\n",
       "</style>\n",
       "<table border=\"1\" class=\"dataframe\">\n",
       "  <thead>\n",
       "    <tr style=\"text-align: right;\">\n",
       "      <th></th>\n",
       "      <th>title</th>\n",
       "      <th>category</th>\n",
       "      <th>subscriber</th>\n",
       "      <th>view</th>\n",
       "      <th>video</th>\n",
       "    </tr>\n",
       "  </thead>\n",
       "  <tbody>\n",
       "    <tr>\n",
       "      <th>0</th>\n",
       "      <td>BLACKPINK</td>\n",
       "      <td>[음악/댄스/가수]</td>\n",
       "      <td>7170만</td>\n",
       "      <td>222억0087만</td>\n",
       "      <td>395개</td>\n",
       "    </tr>\n",
       "    <tr>\n",
       "      <th>1</th>\n",
       "      <td>HYBE LABELS</td>\n",
       "      <td>[음악/댄스/가수]</td>\n",
       "      <td>6380만</td>\n",
       "      <td>211억8292만</td>\n",
       "      <td>792개</td>\n",
       "    </tr>\n",
       "    <tr>\n",
       "      <th>2</th>\n",
       "      <td>BANGTANTV</td>\n",
       "      <td>[음악/댄스/가수]</td>\n",
       "      <td>6330만</td>\n",
       "      <td>148억3005만</td>\n",
       "      <td>1,669개</td>\n",
       "    </tr>\n",
       "    <tr>\n",
       "      <th>3</th>\n",
       "      <td>SMTOWN</td>\n",
       "      <td>[음악/댄스/가수]</td>\n",
       "      <td>2970만</td>\n",
       "      <td>235억5015만</td>\n",
       "      <td>3,849개</td>\n",
       "    </tr>\n",
       "    <tr>\n",
       "      <th>4</th>\n",
       "      <td>Boram Tube Vlog [보람튜브 브이로그]</td>\n",
       "      <td>[키즈/어린이]</td>\n",
       "      <td>2650만</td>\n",
       "      <td>110억5288만</td>\n",
       "      <td>223개</td>\n",
       "    </tr>\n",
       "  </tbody>\n",
       "</table>\n",
       "</div>"
      ],
      "text/plain": [
       "                         title    category subscriber       view   video\n",
       "0                    BLACKPINK  [음악/댄스/가수]      7170만  222억0087만    395개\n",
       "1                  HYBE LABELS  [음악/댄스/가수]      6380만  211억8292만    792개\n",
       "2                    BANGTANTV  [음악/댄스/가수]      6330만  148억3005만  1,669개\n",
       "3                       SMTOWN  [음악/댄스/가수]      2970만  235억5015만  3,849개\n",
       "4  Boram Tube Vlog [보람튜브 브이로그]    [키즈/어린이]      2650만  110억5288만    223개"
      ]
     },
     "execution_count": 21,
     "metadata": {},
     "output_type": "execute_result"
    }
   ],
   "source": [
    "df.head()"
   ]
  },
  {
   "cell_type": "code",
   "execution_count": 22,
   "id": "3d5ae000",
   "metadata": {},
   "outputs": [
    {
     "data": {
      "text/html": [
       "<div>\n",
       "<style scoped>\n",
       "    .dataframe tbody tr th:only-of-type {\n",
       "        vertical-align: middle;\n",
       "    }\n",
       "\n",
       "    .dataframe tbody tr th {\n",
       "        vertical-align: top;\n",
       "    }\n",
       "\n",
       "    .dataframe thead th {\n",
       "        text-align: right;\n",
       "    }\n",
       "</style>\n",
       "<table border=\"1\" class=\"dataframe\">\n",
       "  <thead>\n",
       "    <tr style=\"text-align: right;\">\n",
       "      <th></th>\n",
       "      <th>title</th>\n",
       "      <th>category</th>\n",
       "      <th>subscriber</th>\n",
       "      <th>view</th>\n",
       "      <th>video</th>\n",
       "    </tr>\n",
       "  </thead>\n",
       "  <tbody>\n",
       "    <tr>\n",
       "      <th>995</th>\n",
       "      <td>다영 DAYEONG</td>\n",
       "      <td>[패션/미용]</td>\n",
       "      <td>56만</td>\n",
       "      <td>7785만</td>\n",
       "      <td>375개</td>\n",
       "    </tr>\n",
       "    <tr>\n",
       "      <th>996</th>\n",
       "      <td>디렉터 짱구대디</td>\n",
       "      <td>[패션/미용]</td>\n",
       "      <td>56만</td>\n",
       "      <td>1억8779만</td>\n",
       "      <td>1,860개</td>\n",
       "    </tr>\n",
       "    <tr>\n",
       "      <th>997</th>\n",
       "      <td>Arirang은 고양이들내가 주인</td>\n",
       "      <td>[애완/반려동물]</td>\n",
       "      <td>56만</td>\n",
       "      <td>1억7478만</td>\n",
       "      <td>418개</td>\n",
       "    </tr>\n",
       "    <tr>\n",
       "      <th>998</th>\n",
       "      <td>효크포크 Krazy girl</td>\n",
       "      <td>[TV/방송]</td>\n",
       "      <td>56만</td>\n",
       "      <td>1억2715만</td>\n",
       "      <td>127개</td>\n",
       "    </tr>\n",
       "    <tr>\n",
       "      <th>999</th>\n",
       "      <td>방앗간 비둘기</td>\n",
       "      <td>[게임]</td>\n",
       "      <td>56만</td>\n",
       "      <td>3억6249만</td>\n",
       "      <td>4,404개</td>\n",
       "    </tr>\n",
       "  </tbody>\n",
       "</table>\n",
       "</div>"
      ],
      "text/plain": [
       "                  title   category subscriber     view   video\n",
       "995          다영 DAYEONG    [패션/미용]        56만    7785만    375개\n",
       "996            디렉터 짱구대디    [패션/미용]        56만  1억8779만  1,860개\n",
       "997  Arirang은 고양이들내가 주인  [애완/반려동물]        56만  1억7478만    418개\n",
       "998     효크포크 Krazy girl    [TV/방송]        56만  1억2715만    127개\n",
       "999             방앗간 비둘기       [게임]        56만  3억6249만  4,404개"
      ]
     },
     "execution_count": 22,
     "metadata": {},
     "output_type": "execute_result"
    }
   ],
   "source": [
    "df.tail()"
   ]
  },
  {
   "cell_type": "code",
   "execution_count": 23,
   "id": "bff53031",
   "metadata": {},
   "outputs": [
    {
     "data": {
      "text/plain": [
       "0    7170만\n",
       "1    6380만\n",
       "2    6330만\n",
       "3    2970만\n",
       "4    2650만\n",
       "5    2480만\n",
       "6    2380만\n",
       "7    2350만\n",
       "8    1920만\n",
       "9    1740만\n",
       "Name: subscriber, dtype: object"
      ]
     },
     "execution_count": 23,
     "metadata": {},
     "output_type": "execute_result"
    }
   ],
   "source": [
    "# 데이터 살펴보기\n",
    "df['subscriber'][0:10]"
   ]
  },
  {
   "cell_type": "code",
   "execution_count": 24,
   "id": "f17a0e46",
   "metadata": {},
   "outputs": [
    {
     "data": {
      "text/plain": [
       "0    71700000\n",
       "1    63800000\n",
       "2    63300000\n",
       "3    29700000\n",
       "4    26500000\n",
       "5    24800000\n",
       "6    23800000\n",
       "7    23500000\n",
       "8    19200000\n",
       "9    17400000\n",
       "Name: subscriber, dtype: object"
      ]
     },
     "execution_count": 24,
     "metadata": {},
     "output_type": "execute_result"
    }
   ],
   "source": [
    "df['subscriber'].str.replace('만','0000')[0:10]"
   ]
  },
  {
   "cell_type": "code",
   "execution_count": 25,
   "id": "95175741",
   "metadata": {},
   "outputs": [
    {
     "data": {
      "text/html": [
       "<div>\n",
       "<style scoped>\n",
       "    .dataframe tbody tr th:only-of-type {\n",
       "        vertical-align: middle;\n",
       "    }\n",
       "\n",
       "    .dataframe tbody tr th {\n",
       "        vertical-align: top;\n",
       "    }\n",
       "\n",
       "    .dataframe thead th {\n",
       "        text-align: right;\n",
       "    }\n",
       "</style>\n",
       "<table border=\"1\" class=\"dataframe\">\n",
       "  <thead>\n",
       "    <tr style=\"text-align: right;\">\n",
       "      <th></th>\n",
       "      <th>title</th>\n",
       "      <th>category</th>\n",
       "      <th>subscriber</th>\n",
       "      <th>view</th>\n",
       "      <th>video</th>\n",
       "      <th>replaced_subscriber</th>\n",
       "    </tr>\n",
       "  </thead>\n",
       "  <tbody>\n",
       "    <tr>\n",
       "      <th>0</th>\n",
       "      <td>BLACKPINK</td>\n",
       "      <td>[음악/댄스/가수]</td>\n",
       "      <td>7170만</td>\n",
       "      <td>222억0087만</td>\n",
       "      <td>395개</td>\n",
       "      <td>71700000</td>\n",
       "    </tr>\n",
       "    <tr>\n",
       "      <th>1</th>\n",
       "      <td>HYBE LABELS</td>\n",
       "      <td>[음악/댄스/가수]</td>\n",
       "      <td>6380만</td>\n",
       "      <td>211억8292만</td>\n",
       "      <td>792개</td>\n",
       "      <td>63800000</td>\n",
       "    </tr>\n",
       "    <tr>\n",
       "      <th>2</th>\n",
       "      <td>BANGTANTV</td>\n",
       "      <td>[음악/댄스/가수]</td>\n",
       "      <td>6330만</td>\n",
       "      <td>148억3005만</td>\n",
       "      <td>1,669개</td>\n",
       "      <td>63300000</td>\n",
       "    </tr>\n",
       "    <tr>\n",
       "      <th>3</th>\n",
       "      <td>SMTOWN</td>\n",
       "      <td>[음악/댄스/가수]</td>\n",
       "      <td>2970만</td>\n",
       "      <td>235억5015만</td>\n",
       "      <td>3,849개</td>\n",
       "      <td>29700000</td>\n",
       "    </tr>\n",
       "    <tr>\n",
       "      <th>4</th>\n",
       "      <td>Boram Tube Vlog [보람튜브 브이로그]</td>\n",
       "      <td>[키즈/어린이]</td>\n",
       "      <td>2650만</td>\n",
       "      <td>110억5288만</td>\n",
       "      <td>223개</td>\n",
       "      <td>26500000</td>\n",
       "    </tr>\n",
       "  </tbody>\n",
       "</table>\n",
       "</div>"
      ],
      "text/plain": [
       "                         title    category subscriber       view   video  \\\n",
       "0                    BLACKPINK  [음악/댄스/가수]      7170만  222억0087만    395개   \n",
       "1                  HYBE LABELS  [음악/댄스/가수]      6380만  211억8292만    792개   \n",
       "2                    BANGTANTV  [음악/댄스/가수]      6330만  148억3005만  1,669개   \n",
       "3                       SMTOWN  [음악/댄스/가수]      2970만  235억5015만  3,849개   \n",
       "4  Boram Tube Vlog [보람튜브 브이로그]    [키즈/어린이]      2650만  110억5288만    223개   \n",
       "\n",
       "  replaced_subscriber  \n",
       "0            71700000  \n",
       "1            63800000  \n",
       "2            63300000  \n",
       "3            29700000  \n",
       "4            26500000  "
      ]
     },
     "execution_count": 25,
     "metadata": {},
     "output_type": "execute_result"
    }
   ],
   "source": [
    "df['replaced_subscriber'] = df['subscriber'].str.replace('만','0000')\n",
    "\n",
    "df.head()"
   ]
  },
  {
   "cell_type": "code",
   "execution_count": 26,
   "id": "8fe1ba79",
   "metadata": {},
   "outputs": [
    {
     "name": "stdout",
     "output_type": "stream",
     "text": [
      "<class 'pandas.core.frame.DataFrame'>\n",
      "RangeIndex: 1000 entries, 0 to 999\n",
      "Data columns (total 6 columns):\n",
      " #   Column               Non-Null Count  Dtype \n",
      "---  ------               --------------  ----- \n",
      " 0   title                1000 non-null   object\n",
      " 1   category             1000 non-null   object\n",
      " 2   subscriber           1000 non-null   object\n",
      " 3   view                 1000 non-null   object\n",
      " 4   video                1000 non-null   object\n",
      " 5   replaced_subscriber  1000 non-null   object\n",
      "dtypes: object(6)\n",
      "memory usage: 47.0+ KB\n"
     ]
    }
   ],
   "source": [
    "df.info()"
   ]
  },
  {
   "cell_type": "code",
   "execution_count": 27,
   "id": "d11ee95c",
   "metadata": {},
   "outputs": [
    {
     "name": "stdout",
     "output_type": "stream",
     "text": [
      "<class 'pandas.core.frame.DataFrame'>\n",
      "RangeIndex: 1000 entries, 0 to 999\n",
      "Data columns (total 6 columns):\n",
      " #   Column               Non-Null Count  Dtype \n",
      "---  ------               --------------  ----- \n",
      " 0   title                1000 non-null   object\n",
      " 1   category             1000 non-null   object\n",
      " 2   subscriber           1000 non-null   object\n",
      " 3   view                 1000 non-null   object\n",
      " 4   video                1000 non-null   object\n",
      " 5   replaced_subscriber  1000 non-null   int64 \n",
      "dtypes: int64(1), object(5)\n",
      "memory usage: 47.0+ KB\n"
     ]
    }
   ],
   "source": [
    "# Series 데이터 타입 변환하기\n",
    "df['replaced_subscriber'] = df['replaced_subscriber'].astype('int')\n",
    "\n",
    "df.info()"
   ]
  },
  {
   "cell_type": "code",
   "execution_count": 28,
   "id": "d7f93dbf",
   "metadata": {},
   "outputs": [
    {
     "data": {
      "text/html": [
       "<div>\n",
       "<style scoped>\n",
       "    .dataframe tbody tr th:only-of-type {\n",
       "        vertical-align: middle;\n",
       "    }\n",
       "\n",
       "    .dataframe tbody tr th {\n",
       "        vertical-align: top;\n",
       "    }\n",
       "\n",
       "    .dataframe thead tr th {\n",
       "        text-align: left;\n",
       "    }\n",
       "\n",
       "    .dataframe thead tr:last-of-type th {\n",
       "        text-align: right;\n",
       "    }\n",
       "</style>\n",
       "<table border=\"1\" class=\"dataframe\">\n",
       "  <thead>\n",
       "    <tr>\n",
       "      <th></th>\n",
       "      <th>sum</th>\n",
       "      <th>count</th>\n",
       "    </tr>\n",
       "    <tr>\n",
       "      <th></th>\n",
       "      <th>replaced_subscriber</th>\n",
       "      <th>replaced_subscriber</th>\n",
       "    </tr>\n",
       "    <tr>\n",
       "      <th>category</th>\n",
       "      <th></th>\n",
       "      <th></th>\n",
       "    </tr>\n",
       "  </thead>\n",
       "  <tbody>\n",
       "    <tr>\n",
       "      <th>[BJ/인물/연예인]</th>\n",
       "      <td>93970000</td>\n",
       "      <td>65</td>\n",
       "    </tr>\n",
       "    <tr>\n",
       "      <th>[IT/기술/컴퓨터]</th>\n",
       "      <td>8600000</td>\n",
       "      <td>8</td>\n",
       "    </tr>\n",
       "    <tr>\n",
       "      <th>[TV/방송]</th>\n",
       "      <td>247530000</td>\n",
       "      <td>145</td>\n",
       "    </tr>\n",
       "    <tr>\n",
       "      <th>[게임]</th>\n",
       "      <td>71780000</td>\n",
       "      <td>70</td>\n",
       "    </tr>\n",
       "    <tr>\n",
       "      <th>[교육/강의]</th>\n",
       "      <td>24680000</td>\n",
       "      <td>21</td>\n",
       "    </tr>\n",
       "  </tbody>\n",
       "</table>\n",
       "</div>"
      ],
      "text/plain": [
       "                            sum               count\n",
       "            replaced_subscriber replaced_subscriber\n",
       "category                                           \n",
       "[BJ/인물/연예인]            93970000                  65\n",
       "[IT/기술/컴퓨터]             8600000                   8\n",
       "[TV/방송]               247530000                 145\n",
       "[게임]                   71780000                  70\n",
       "[교육/강의]                24680000                  21"
      ]
     },
     "execution_count": 28,
     "metadata": {},
     "output_type": "execute_result"
    }
   ],
   "source": [
    "# 카페고리별 구독사 수, 채널 수 피벗 테이블 생성하기\n",
    "pivot_df = df.pivot_table(index='category', values='replaced_subscriber', aggfunc = ['sum','count'])\n",
    "pivot_df.head()"
   ]
  },
  {
   "cell_type": "code",
   "execution_count": 29,
   "id": "05e8599f",
   "metadata": {},
   "outputs": [
    {
     "data": {
      "text/html": [
       "<div>\n",
       "<style scoped>\n",
       "    .dataframe tbody tr th:only-of-type {\n",
       "        vertical-align: middle;\n",
       "    }\n",
       "\n",
       "    .dataframe tbody tr th {\n",
       "        vertical-align: top;\n",
       "    }\n",
       "\n",
       "    .dataframe thead th {\n",
       "        text-align: right;\n",
       "    }\n",
       "</style>\n",
       "<table border=\"1\" class=\"dataframe\">\n",
       "  <thead>\n",
       "    <tr style=\"text-align: right;\">\n",
       "      <th></th>\n",
       "      <th>subscriber_sum</th>\n",
       "      <th>category_count</th>\n",
       "    </tr>\n",
       "    <tr>\n",
       "      <th>category</th>\n",
       "      <th></th>\n",
       "      <th></th>\n",
       "    </tr>\n",
       "  </thead>\n",
       "  <tbody>\n",
       "    <tr>\n",
       "      <th>[BJ/인물/연예인]</th>\n",
       "      <td>93970000</td>\n",
       "      <td>65</td>\n",
       "    </tr>\n",
       "    <tr>\n",
       "      <th>[IT/기술/컴퓨터]</th>\n",
       "      <td>8600000</td>\n",
       "      <td>8</td>\n",
       "    </tr>\n",
       "    <tr>\n",
       "      <th>[TV/방송]</th>\n",
       "      <td>247530000</td>\n",
       "      <td>145</td>\n",
       "    </tr>\n",
       "    <tr>\n",
       "      <th>[게임]</th>\n",
       "      <td>71780000</td>\n",
       "      <td>70</td>\n",
       "    </tr>\n",
       "    <tr>\n",
       "      <th>[교육/강의]</th>\n",
       "      <td>24680000</td>\n",
       "      <td>21</td>\n",
       "    </tr>\n",
       "  </tbody>\n",
       "</table>\n",
       "</div>"
      ],
      "text/plain": [
       "             subscriber_sum  category_count\n",
       "category                                   \n",
       "[BJ/인물/연예인]        93970000              65\n",
       "[IT/기술/컴퓨터]         8600000               8\n",
       "[TV/방송]           247530000             145\n",
       "[게임]               71780000              70\n",
       "[교육/강의]            24680000              21"
      ]
     },
     "execution_count": 29,
     "metadata": {},
     "output_type": "execute_result"
    }
   ],
   "source": [
    "# 데이터 프레임의 칼럼명 변경하기\n",
    "pivot_df.columns = ['subscriber_sum', 'category_count']\n",
    "pivot_df.head()"
   ]
  },
  {
   "cell_type": "code",
   "execution_count": 30,
   "id": "d61fa3c9",
   "metadata": {},
   "outputs": [
    {
     "data": {
      "text/html": [
       "<div>\n",
       "<style scoped>\n",
       "    .dataframe tbody tr th:only-of-type {\n",
       "        vertical-align: middle;\n",
       "    }\n",
       "\n",
       "    .dataframe tbody tr th {\n",
       "        vertical-align: top;\n",
       "    }\n",
       "\n",
       "    .dataframe thead th {\n",
       "        text-align: right;\n",
       "    }\n",
       "</style>\n",
       "<table border=\"1\" class=\"dataframe\">\n",
       "  <thead>\n",
       "    <tr style=\"text-align: right;\">\n",
       "      <th></th>\n",
       "      <th>subscriber_sum</th>\n",
       "      <th>category_count</th>\n",
       "    </tr>\n",
       "    <tr>\n",
       "      <th>category</th>\n",
       "      <th></th>\n",
       "      <th></th>\n",
       "    </tr>\n",
       "  </thead>\n",
       "  <tbody>\n",
       "    <tr>\n",
       "      <th>[BJ/인물/연예인]</th>\n",
       "      <td>93970000</td>\n",
       "      <td>65</td>\n",
       "    </tr>\n",
       "    <tr>\n",
       "      <th>[IT/기술/컴퓨터]</th>\n",
       "      <td>8600000</td>\n",
       "      <td>8</td>\n",
       "    </tr>\n",
       "    <tr>\n",
       "      <th>[TV/방송]</th>\n",
       "      <td>247530000</td>\n",
       "      <td>145</td>\n",
       "    </tr>\n",
       "    <tr>\n",
       "      <th>[게임]</th>\n",
       "      <td>71780000</td>\n",
       "      <td>70</td>\n",
       "    </tr>\n",
       "    <tr>\n",
       "      <th>[교육/강의]</th>\n",
       "      <td>24680000</td>\n",
       "      <td>21</td>\n",
       "    </tr>\n",
       "  </tbody>\n",
       "</table>\n",
       "</div>"
      ],
      "text/plain": [
       "             subscriber_sum  category_count\n",
       "category                                   \n",
       "[BJ/인물/연예인]        93970000              65\n",
       "[IT/기술/컴퓨터]         8600000               8\n",
       "[TV/방송]           247530000             145\n",
       "[게임]               71780000              70\n",
       "[교육/강의]            24680000              21"
      ]
     },
     "execution_count": 30,
     "metadata": {},
     "output_type": "execute_result"
    }
   ],
   "source": [
    "# 데이터프레임의 인덱스초기화하기\n",
    "#pivot_df = pivot_df.reset_index()\n",
    "pivot_df.head()"
   ]
  },
  {
   "cell_type": "code",
   "execution_count": 36,
   "id": "85aec6b7",
   "metadata": {},
   "outputs": [
    {
     "data": {
      "text/plain": [
       "Index(['[음악/댄스/가수]', '[TV/방송]', '[미분류]', '[키즈/어린이]', '[음식/요리/레시피]', '[게임]',\n",
       "       '[BJ/인물/연예인]', '[뉴스/정치/사회]', '[패션/미용]', '[취미/라이프]', '[영화/만화/애니]',\n",
       "       '[교육/강의]', '[애완/반려동물]', '[스포츠/운동]', '[IT/기술/컴퓨터]', '[주식/경제/부동산]',\n",
       "       '[해외]', '[회사/오피셜]', '[국내/해외/여행]', '[자동차]', '[취미]'],\n",
       "      dtype='object', name='category')"
      ]
     },
     "execution_count": 36,
     "metadata": {},
     "output_type": "execute_result"
    }
   ],
   "source": [
    "pivot_df.index"
   ]
  },
  {
   "cell_type": "code",
   "execution_count": 37,
   "id": "39719187",
   "metadata": {},
   "outputs": [
    {
     "data": {
      "image/png": "[encoded data removed]",
      "text/plain": [
       "<Figure size 2160x720 with 1 Axes>"
      ]
     },
     "metadata": {},
     "output_type": "display_data"
    }
   ],
   "source": [
    "#카테고리별 구독자수 시각화하기\n",
    "plt.figure(figsize = (30,10))\n",
    "plt.pie(pivot_df['subscriber_sum'], labels=pivot_df.index, autopct='%1.1f%%')\n",
    "plt.show()"
   ]
  },
  {
   "cell_type": "code",
   "execution_count": 38,
   "id": "59dc385e",
   "metadata": {},
   "outputs": [
    {
     "data": {
      "image/png": "[encoded data removed]",
      "text/plain": [
       "<Figure size 2160x720 with 1 Axes>"
      ]
     },
     "metadata": {},
     "output_type": "display_data"
    }
   ],
   "source": [
    "# 카테고리별 채널 수 시각화하기\n",
    "pivot_df = pivot_df.sort_values(by='category_count', ascending=False)\n",
    "pivot_df.head()\n",
    "plt.figure(figsize = (30,10))\n",
    "plt.pie(pivot_df['category_count'], labels=pivot_df.index, autopct='%1.1f%%')\n",
    "plt.show()"
   ]
  },
  {
   "cell_type": "code",
   "execution_count": null,
   "id": "c59a505b",
   "metadata": {},
   "outputs": [],
   "source": []
  }
 ],
 "metadata": {
  "kernelspec": {
   "display_name": "Python 3 (ipykernel)",
   "language": "python",
   "name": "python3"
  },
  "language_info": {
   "codemirror_mode": {
    "name": "ipython",
    "version": 3
   },
   "file_extension": ".py",
   "mimetype": "text/x-python",
   "name": "python",
   "nbconvert_exporter": "python",
   "pygments_lexer": "ipython3",
   "version": "3.9.0"
  },
  "toc": {
   "base_numbering": 1,
   "nav_menu": {},
   "number_sections": true,
   "sideBar": true,
   "skip_h1_title": false,
   "title_cell": "Table of Contents",
   "title_sidebar": "Contents",
   "toc_cell": false,
   "toc_position": {},
   "toc_section_display": true,
   "toc_window_display": false
  },
  "varInspector": {
   "cols": {
    "lenName": 16,
    "lenType": 16,
    "lenVar": 40
   },
   "kernels_config": {
    "python": {
     "delete_cmd_postfix": "",
     "delete_cmd_prefix": "del ",
     "library": "var_list.py",
     "varRefreshCmd": "print(var_dic_list())"
    },
    "r": {
     "delete_cmd_postfix": ") ",
     "delete_cmd_prefix": "rm(",
     "library": "var_list.r",
     "varRefreshCmd": "cat(var_dic_list()) "
    }
   },
   "types_to_exclude": [
    "module",
    "function",
    "builtin_function_or_method",
    "instance",
    "_Feature"
   ],
   "window_display": false
  }
 },
 "nbformat": 4,
 "nbformat_minor": 5
}
