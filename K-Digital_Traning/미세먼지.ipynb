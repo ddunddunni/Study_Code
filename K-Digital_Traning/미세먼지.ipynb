{
 "cells": [
  {
   "cell_type": "code",
   "execution_count": 37,
   "id": "0c86d4a3",
   "metadata": {},
   "outputs": [],
   "source": [
    "import pandas as pd\n",
    "from sklearn.preprocessing import MinMaxScaler\n",
    "from sklearn.model_selection import train_test_split\n",
    "import tensorflow as tf\n",
    "tf.random.set_seed(777) #하이퍼파라미터 튜닝을 위해 실행시 마다 변수가 같은 초기값 가지게 하기\n",
    "from tensorflow.keras.utils import plot_model\n",
    "import numpy as np\n",
    "#matplotlib 패키지 한글 깨짐 처리 시작\n",
    "import matplotlib.pyplot as plt\n",
    "import platform\n",
    "if platform.system() == 'Darwin': #맥\n",
    "        plt.rc('font', family='AppleGothic') \n",
    "elif platform.system() == 'Windows': #윈도우\n",
    "        plt.rc('font', family='Malgun Gothic') \n",
    "elif platform.system() == 'Linux': #리눅스 (구글 콜랩)\n",
    "        #!wget \"https://www.wfonts.com/download/data/2016/06/13/malgun-gothic/malgun.ttf\"\n",
    "        #!mv malgun.ttf /usr/share/fonts/truetype/\n",
    "        #import matplotlib.font_manager as fm \n",
    "        #fm._rebuild() \n",
    "        plt.rc('font', family='Malgun Gothic') \n",
    "plt.rcParams['axes.unicode_minus'] = False #한글 폰트 사용시 마이너스 폰트 깨짐 해결\n",
    "#matplotlib 패키지 한글 깨짐 처리 끝\n",
    "%matplotlib inline"
   ]
  },
  {
   "cell_type": "code",
   "execution_count": 38,
   "id": "ef93424c",
   "metadata": {},
   "outputs": [],
   "source": [
    "def load_time_series_data(data, sequence_length):\n",
    "    #print(data.shape) #(1225, 1)\n",
    "    #print(sequence_length) #3\n",
    "    window_length = sequence_length + 1\n",
    "    x_data = []\n",
    "    y_data = []\n",
    "    for i in range(0, len(data) - window_length + 1): #0 1 2 3 4 5 6 7 8 9 | 10\n",
    "        window = data[i:i + window_length, :]\n",
    "        x_data.append(window[:-1, :])\n",
    "        y_data.append(window[-1, [-1]])\n",
    "    x_data = np.array(x_data)\n",
    "    y_data = np.array(y_data)\n",
    "    #print(x_data.shape) #(1222, 3, 1)\n",
    "    #print(y_data.shape) #(1222, 1)\n",
    "\n",
    "    return x_data, y_data\n",
    "\n",
    "##########데이터 로드\n",
    "df = pd.read_excel('./미세먼지 데이터.xlsx')\n",
    "#df = pd.read_csv('서울시_기간별_시간평균_대기환경_정보_2020.04.csv', encoding='euc-kr')"
   ]
  },
  {
   "cell_type": "code",
   "execution_count": 39,
   "id": "31602784",
   "metadata": {},
   "outputs": [
    {
     "name": "stdout",
     "output_type": "stream",
     "text": [
      "       측정일시  측정소명  이산화질소농도(ppm)  오존농도(ppm)  일산화탄소농도(ppm)  아황산가스(ppm)  \\\n",
      "0  20170101   강남구         0.040      0.002           0.8       0.005   \n",
      "1  20170101  강남대로         0.082      0.005           1.4       0.007   \n",
      "2  20170101   강동구         0.039      0.003           0.8       0.004   \n",
      "3  20170101  강변북로         0.042      0.003           0.8       0.004   \n",
      "4  20170101   강북구         0.046      0.003           1.0       0.005   \n",
      "\n",
      "   미세먼지(㎍/㎥)  초미세먼지(㎍/㎥)  \n",
      "0       80.0        58.0  \n",
      "1       83.0        58.0  \n",
      "2       80.0        54.0  \n",
      "3       81.0         NaN  \n",
      "4       78.0        65.0  \n"
     ]
    }
   ],
   "source": [
    "print(df.head())"
   ]
  },
  {
   "cell_type": "code",
   "execution_count": 40,
   "id": "0d37bd73",
   "metadata": {},
   "outputs": [
    {
     "name": "stdout",
     "output_type": "stream",
     "text": [
      "<class 'pandas.core.frame.DataFrame'>\n",
      "RangeIndex: 79760 entries, 0 to 79759\n",
      "Data columns (total 8 columns):\n",
      " #   Column        Non-Null Count  Dtype  \n",
      "---  ------        --------------  -----  \n",
      " 0   측정일시          79760 non-null  int64  \n",
      " 1   측정소명          79760 non-null  object \n",
      " 2   이산화질소농도(ppm)  78559 non-null  float64\n",
      " 3   오존농도(ppm)     78657 non-null  float64\n",
      " 4   일산화탄소농도(ppm)  78490 non-null  float64\n",
      " 5   아황산가스(ppm)    78573 non-null  float64\n",
      " 6   미세먼지(㎍/㎥)     78109 non-null  float64\n",
      " 7   초미세먼지(㎍/㎥)    77583 non-null  float64\n",
      "dtypes: float64(6), int64(1), object(1)\n",
      "memory usage: 4.9+ MB\n",
      "None\n"
     ]
    }
   ],
   "source": [
    "print(df.info())"
   ]
  },
  {
   "cell_type": "code",
   "execution_count": 41,
   "id": "d034fcf1",
   "metadata": {},
   "outputs": [],
   "source": [
    "df['이산화질소농도(ppm)'] = df['이산화질소농도(ppm)'].fillna(df['이산화질소농도(ppm)'].mean()).astype(float)\n",
    "df['오존농도(ppm)'] = df['오존농도(ppm)'].fillna(df['오존농도(ppm)'].mean()).astype(float)\n",
    "df['일산화탄소농도(ppm)'] = df['일산화탄소농도(ppm)'].fillna(df['일산화탄소농도(ppm)'].mean()).astype(float)\n",
    "df['아황산가스(ppm)'] = df['아황산가스(ppm)'].fillna(df['아황산가스(ppm)'].mean()).astype(float)\n",
    "df['미세먼지(㎍/㎥)'] = df['미세먼지(㎍/㎥)'].fillna(df['미세먼지(㎍/㎥)'].mean()).astype(float)\n",
    "df['초미세먼지(㎍/㎥)'] = df['초미세먼지(㎍/㎥)'].fillna(df['초미세먼지(㎍/㎥)'].mean()).astype(float)"
   ]
  },
  {
   "cell_type": "code",
   "execution_count": 42,
   "id": "bbcb5bc8",
   "metadata": {},
   "outputs": [
    {
     "name": "stdout",
     "output_type": "stream",
     "text": [
      "<class 'pandas.core.frame.DataFrame'>\n",
      "RangeIndex: 79760 entries, 0 to 79759\n",
      "Data columns (total 8 columns):\n",
      " #   Column        Non-Null Count  Dtype  \n",
      "---  ------        --------------  -----  \n",
      " 0   측정일시          79760 non-null  int64  \n",
      " 1   측정소명          79760 non-null  object \n",
      " 2   이산화질소농도(ppm)  79760 non-null  float64\n",
      " 3   오존농도(ppm)     79760 non-null  float64\n",
      " 4   일산화탄소농도(ppm)  79760 non-null  float64\n",
      " 5   아황산가스(ppm)    79760 non-null  float64\n",
      " 6   미세먼지(㎍/㎥)     79760 non-null  float64\n",
      " 7   초미세먼지(㎍/㎥)    79760 non-null  float64\n",
      "dtypes: float64(6), int64(1), object(1)\n",
      "memory usage: 4.9+ MB\n",
      "None\n"
     ]
    }
   ],
   "source": [
    "print(df.info())"
   ]
  },
  {
   "cell_type": "code",
   "execution_count": 43,
   "id": "1d0692e1",
   "metadata": {},
   "outputs": [
    {
     "name": "stdout",
     "output_type": "stream",
     "text": [
      "               측정일시  이산화질소농도(ppm)     오존농도(ppm)  일산화탄소농도(ppm)    아황산가스(ppm)  \\\n",
      "count  7.976000e+04  79760.000000  79760.000000  79760.000000  79760.000000   \n",
      "mean   2.019230e+07      0.029627      0.023573      0.532549      0.003872   \n",
      "std    1.401899e+04      0.027296      0.013025      0.224589      0.001517   \n",
      "min    2.017010e+07      0.000000      0.000000      0.100000      0.001000   \n",
      "25%    2.018072e+07      0.018000      0.014000      0.400000      0.003000   \n",
      "50%    2.019101e+07      0.028000      0.022000      0.500000      0.004000   \n",
      "75%    2.020112e+07      0.039000      0.032000      0.600000      0.005000   \n",
      "max    2.021123e+07      6.523000      0.247000      8.000000      0.148000   \n",
      "\n",
      "          미세먼지(㎍/㎥)    초미세먼지(㎍/㎥)  \n",
      "count  79760.000000  79760.000000  \n",
      "mean      40.806130     22.521545  \n",
      "std       27.354762     15.291393  \n",
      "min        3.000000      1.000000  \n",
      "25%       24.000000     12.000000  \n",
      "50%       36.000000     19.000000  \n",
      "75%       51.000000     28.000000  \n",
      "max      542.000000    161.000000  \n"
     ]
    }
   ],
   "source": [
    "print(df.describe())"
   ]
  },
  {
   "cell_type": "code",
   "execution_count": 97,
   "id": "3bc7c41f",
   "metadata": {},
   "outputs": [
    {
     "name": "stdout",
     "output_type": "stream",
     "text": [
      "(1755, 1)\n",
      "(1752, 3)\n",
      "(1752, 1)\n",
      "(1226, 3)\n",
      "(1226, 1)\n",
      "(526, 3)\n",
      "(526, 1)\n"
     ]
    }
   ],
   "source": [
    "##########데이터 전처리\n",
    "\n",
    "df = df[df['측정소명'] == '마포구']\n",
    "df = df.sort_values(by='측정일시')\n",
    "\n",
    "data = df[['미세먼지(㎍/㎥)']].to_numpy()\n",
    "print(data.shape) #((720, 1)\n",
    "\n",
    "transformer = MinMaxScaler()\n",
    "data = transformer.fit_transform(data)\n",
    "\n",
    "sequence_length = 3\n",
    "x_data, y_data = load_time_series_data(data, sequence_length)\n",
    "x_data = x_data.reshape(len(x_data), -1)\n",
    "print(x_data.shape) #(717, 3)\n",
    "print(y_data.shape) #(717, 1)\n",
    "\n",
    "x_train, x_test, y_train, y_test = train_test_split(x_data, y_data, test_size=0.3, shuffle=False) #시각화를 위해 shuffle=False 옵션 사용\n",
    "print(x_train.shape) #((501, 3)\n",
    "print(y_train.shape) #(501, 1)\n",
    "print(x_test.shape) #(216, 3)\n",
    "print(y_test.shape) #(216, 1)\n"
   ]
  },
  {
   "cell_type": "code",
   "execution_count": 46,
   "id": "99523164",
   "metadata": {},
   "outputs": [
    {
     "name": "stdout",
     "output_type": "stream",
     "text": [
      "Epoch 1/50\n",
      "39/39 [==============================] - 1s 9ms/step - loss: 0.0046 - val_loss: 0.0049\n",
      "Epoch 2/50\n",
      "39/39 [==============================] - 0s 4ms/step - loss: 0.0027 - val_loss: 0.0045\n",
      "Epoch 3/50\n",
      "39/39 [==============================] - 0s 4ms/step - loss: 0.0024 - val_loss: 0.0043\n",
      "Epoch 4/50\n",
      "39/39 [==============================] - 0s 4ms/step - loss: 0.0022 - val_loss: 0.0043\n",
      "Epoch 5/50\n",
      "39/39 [==============================] - 0s 5ms/step - loss: 0.0022 - val_loss: 0.0042\n",
      "Epoch 6/50\n",
      "39/39 [==============================] - 0s 5ms/step - loss: 0.0022 - val_loss: 0.0042\n",
      "Epoch 7/50\n",
      "39/39 [==============================] - 0s 4ms/step - loss: 0.0022 - val_loss: 0.0041\n",
      "Epoch 8/50\n",
      "39/39 [==============================] - 0s 4ms/step - loss: 0.0021 - val_loss: 0.0042\n",
      "Epoch 9/50\n",
      "39/39 [==============================] - 0s 5ms/step - loss: 0.0021 - val_loss: 0.0040\n",
      "Epoch 10/50\n",
      "39/39 [==============================] - 0s 5ms/step - loss: 0.0020 - val_loss: 0.0039\n",
      "Epoch 11/50\n",
      "39/39 [==============================] - 0s 4ms/step - loss: 0.0020 - val_loss: 0.0042\n",
      "Epoch 12/50\n",
      "39/39 [==============================] - 0s 5ms/step - loss: 0.0020 - val_loss: 0.0039\n",
      "Epoch 13/50\n",
      "39/39 [==============================] - 0s 5ms/step - loss: 0.0020 - val_loss: 0.0039\n",
      "Epoch 14/50\n",
      "39/39 [==============================] - 0s 5ms/step - loss: 0.0020 - val_loss: 0.0038\n",
      "Epoch 15/50\n",
      "39/39 [==============================] - 0s 7ms/step - loss: 0.0020 - val_loss: 0.0038\n",
      "Epoch 16/50\n",
      "39/39 [==============================] - 0s 5ms/step - loss: 0.0019 - val_loss: 0.0038\n",
      "Epoch 17/50\n",
      "39/39 [==============================] - 0s 5ms/step - loss: 0.0019 - val_loss: 0.0038\n",
      "Epoch 18/50\n",
      "39/39 [==============================] - 0s 5ms/step - loss: 0.0020 - val_loss: 0.0038\n",
      "Epoch 19/50\n",
      "39/39 [==============================] - 0s 5ms/step - loss: 0.0019 - val_loss: 0.0038\n",
      "Epoch 20/50\n",
      "39/39 [==============================] - 0s 7ms/step - loss: 0.0019 - val_loss: 0.0038\n",
      "Epoch 21/50\n",
      "39/39 [==============================] - 0s 6ms/step - loss: 0.0019 - val_loss: 0.0037\n",
      "Epoch 22/50\n",
      "39/39 [==============================] - 0s 5ms/step - loss: 0.0019 - val_loss: 0.0039\n",
      "Epoch 23/50\n",
      "39/39 [==============================] - 0s 5ms/step - loss: 0.0019 - val_loss: 0.0038\n",
      "Epoch 24/50\n",
      "39/39 [==============================] - 0s 4ms/step - loss: 0.0019 - val_loss: 0.0037\n",
      "Epoch 25/50\n",
      "39/39 [==============================] - 0s 5ms/step - loss: 0.0019 - val_loss: 0.0038\n",
      "Epoch 26/50\n",
      "39/39 [==============================] - 0s 5ms/step - loss: 0.0019 - val_loss: 0.0038\n",
      "Epoch 27/50\n",
      "39/39 [==============================] - 0s 7ms/step - loss: 0.0019 - val_loss: 0.0039\n",
      "Epoch 28/50\n",
      "39/39 [==============================] - 0s 5ms/step - loss: 0.0018 - val_loss: 0.0037\n",
      "Epoch 29/50\n",
      "39/39 [==============================] - 0s 5ms/step - loss: 0.0019 - val_loss: 0.0038\n",
      "Epoch 30/50\n",
      "39/39 [==============================] - 0s 5ms/step - loss: 0.0018 - val_loss: 0.0038\n",
      "Epoch 31/50\n",
      "39/39 [==============================] - 0s 6ms/step - loss: 0.0019 - val_loss: 0.0038\n",
      "Epoch 32/50\n",
      "39/39 [==============================] - 0s 6ms/step - loss: 0.0018 - val_loss: 0.0038\n",
      "Epoch 33/50\n",
      "39/39 [==============================] - 0s 5ms/step - loss: 0.0019 - val_loss: 0.0037\n",
      "Epoch 34/50\n",
      "39/39 [==============================] - 0s 5ms/step - loss: 0.0018 - val_loss: 0.0038\n",
      "Epoch 35/50\n",
      "39/39 [==============================] - 0s 5ms/step - loss: 0.0018 - val_loss: 0.0038\n",
      "Epoch 36/50\n",
      "39/39 [==============================] - 0s 5ms/step - loss: 0.0019 - val_loss: 0.0037\n",
      "Epoch 37/50\n",
      "39/39 [==============================] - 0s 5ms/step - loss: 0.0019 - val_loss: 0.0037\n",
      "Epoch 38/50\n",
      "39/39 [==============================] - 0s 5ms/step - loss: 0.0018 - val_loss: 0.0038\n",
      "Epoch 39/50\n",
      "39/39 [==============================] - 0s 5ms/step - loss: 0.0018 - val_loss: 0.0037\n",
      "Epoch 40/50\n",
      "39/39 [==============================] - 0s 5ms/step - loss: 0.0018 - val_loss: 0.0038\n",
      "Epoch 41/50\n",
      "39/39 [==============================] - 0s 5ms/step - loss: 0.0018 - val_loss: 0.0038\n",
      "Epoch 42/50\n",
      "39/39 [==============================] - 0s 9ms/step - loss: 0.0018 - val_loss: 0.0037\n",
      "Epoch 43/50\n",
      "39/39 [==============================] - 0s 4ms/step - loss: 0.0018 - val_loss: 0.0037\n",
      "Epoch 44/50\n",
      "39/39 [==============================] - 0s 4ms/step - loss: 0.0019 - val_loss: 0.0037\n",
      "Epoch 45/50\n",
      "39/39 [==============================] - 0s 4ms/step - loss: 0.0018 - val_loss: 0.0038\n",
      "Epoch 46/50\n",
      "39/39 [==============================] - 0s 4ms/step - loss: 0.0018 - val_loss: 0.0041\n",
      "Epoch 47/50\n",
      "39/39 [==============================] - 0s 4ms/step - loss: 0.0019 - val_loss: 0.0038\n",
      "Epoch 48/50\n",
      "39/39 [==============================] - 0s 4ms/step - loss: 0.0018 - val_loss: 0.0037\n",
      "Epoch 49/50\n",
      "39/39 [==============================] - 0s 4ms/step - loss: 0.0018 - val_loss: 0.0037\n",
      "Epoch 50/50\n",
      "39/39 [==============================] - 0s 5ms/step - loss: 0.0018 - val_loss: 0.0038\n"
     ]
    }
   ],
   "source": [
    "##########모델 생성\n",
    "\n",
    "input = tf.keras.layers.Input(shape=(3,1))\n",
    "net = tf.keras.layers.LSTM(units=32, activation='relu')(input)\n",
    "net = tf.keras.layers.Dense(units=32, activation='relu')(net)\n",
    "net = tf.keras.layers.Dense(units=1)(net)\n",
    "model = tf.keras.models.Model(input, net)\n",
    "\n",
    "##########모델 학습\n",
    "\n",
    "model.compile(loss='mean_squared_error', optimizer='adam')\n",
    "\n",
    "hist = model.fit(x_train, y_train, epochs=50, validation_data=(x_test, y_test)) \n",
    "\n",
    "##########모델 검증\n"
   ]
  },
  {
   "cell_type": "code",
   "execution_count": 47,
   "id": "e10c0ca8",
   "metadata": {},
   "outputs": [
    {
     "name": "stdout",
     "output_type": "stream",
     "text": [
      "Model: \"model_6\"\n",
      "_________________________________________________________________\n",
      " Layer (type)                Output Shape              Param #   \n",
      "=================================================================\n",
      " input_8 (InputLayer)        [(None, 3, 1)]            0         \n",
      "                                                                 \n",
      " lstm_2 (LSTM)               (None, 32)                4352      \n",
      "                                                                 \n",
      " dense_17 (Dense)            (None, 32)                1056      \n",
      "                                                                 \n",
      " dense_18 (Dense)            (None, 1)                 33        \n",
      "                                                                 \n",
      "=================================================================\n",
      "Total params: 5,441\n",
      "Trainable params: 5,441\n",
      "Non-trainable params: 0\n",
      "_________________________________________________________________\n"
     ]
    }
   ],
   "source": [
    "model.summary()"
   ]
  },
  {
   "cell_type": "code",
   "execution_count": 48,
   "id": "31f62e7b",
   "metadata": {},
   "outputs": [
    {
     "name": "stdout",
     "output_type": "stream",
     "text": [
      "('You must install pydot (`pip install pydot`) and install graphviz (see instructions at https://graphviz.gitlab.io/download/) ', 'for plot_model/model_to_dot to work.')\n"
     ]
    }
   ],
   "source": [
    "plot_model(model, show_shapes=True)"
   ]
  },
  {
   "cell_type": "code",
   "execution_count": 49,
   "id": "006db5c2",
   "metadata": {},
   "outputs": [
    {
     "data": {
      "image/png": "[encoded data removed]",
      "text/plain": [
       "<Figure size 432x288 with 1 Axes>"
      ]
     },
     "metadata": {
      "needs_background": "light"
     },
     "output_type": "display_data"
    },
    {
     "data": {
      "text/plain": [
       "<Figure size 432x288 with 0 Axes>"
      ]
     },
     "metadata": {},
     "output_type": "display_data"
    }
   ],
   "source": [
    "# 학습결과 시각화\n",
    "#plt.plot(hist.history['accuracy'], label='acc')\n",
    "#plt.plot(hist.history['val_accuracy'], label='val_acc')\n",
    "plt.plot(hist.history['loss'], label='loss')\n",
    "plt.plot(hist.history['val_loss'], label='val_loss')\n",
    "plt.xlabel(\"EPOCH\")\n",
    "plt.legend(loc='center left')\n",
    "plt.show()\n",
    "plt.savefig(\"train_history.png\")"
   ]
  },
  {
   "cell_type": "code",
   "execution_count": 50,
   "id": "96b62c75",
   "metadata": {
    "scrolled": true
   },
   "outputs": [
    {
     "data": {
      "image/png": "[encoded data removed]",
      "text/plain": [
       "<Figure size 432x288 with 1 Axes>"
      ]
     },
     "metadata": {
      "needs_background": "light"
     },
     "output_type": "display_data"
    },
    {
     "name": "stdout",
     "output_type": "stream",
     "text": [
      "49.36399\n"
     ]
    }
   ],
   "source": [
    "##########모델 예측                           \n",
    "\n",
    "def plot(data, y_predict_train, y_predict_test):\n",
    "    plt.plot(transformer.inverse_transform(data)[:, [-1]].flatten(), label='실제 미세먼지')\n",
    "\n",
    "    y_predict_train = transformer.inverse_transform(y_predict_train)\n",
    "    y_predict_train_plot = np.empty_like(data[:, [0]])\n",
    "    y_predict_train_plot[:, :] = np.nan\n",
    "    y_predict_train_plot[sequence_length:len(y_predict_train) + sequence_length, :] = y_predict_train\n",
    "    plt.plot(y_predict_train_plot.flatten(), label='학습 데이터 예측 미세먼지')\n",
    "\n",
    "    y_predict_test = transformer.inverse_transform(y_predict_test)\n",
    "    y_predict_test_plot = np.empty_like(data[:, [0]])\n",
    "    y_predict_test_plot[:, :] = np.nan\n",
    "    y_predict_test_plot[len(y_predict_train) + sequence_length:, :] = y_predict_test\n",
    "    plt.plot(y_predict_test_plot.flatten(), label='테스트 데이터 예측 미세먼지')\n",
    "\n",
    "    plt.legend()\n",
    "    plt.show()\n",
    "\n",
    "y_predict_train = model.predict(x_train)\n",
    "y_predict_test = model.predict(x_test)\n",
    "plot(data, y_predict_train, y_predict_test)\n",
    "\n",
    "x_test = np.array([\n",
    "        [44, 49, 50]\n",
    "])\n",
    "x_test = x_test.reshape(-1, 1)\n",
    "x_test = transformer.transform(x_test)\n",
    "x_test = x_test.reshape(1, sequence_length)\n",
    "\n",
    "y_predict = model.predict(x_test)\n",
    "\n",
    "y_predict = transformer.inverse_transform(y_predict)\n",
    "print(y_predict[0][0])"
   ]
  },
  {
   "cell_type": "code",
   "execution_count": 102,
   "id": "8f453e96",
   "metadata": {},
   "outputs": [
    {
     "data": {
      "text/plain": [
       "1"
      ]
     },
     "execution_count": 102,
     "metadata": {},
     "output_type": "execute_result"
    }
   ],
   "source": [
    "time.ndim"
   ]
  },
  {
   "cell_type": "code",
   "execution_count": 103,
   "id": "30ffd01c",
   "metadata": {},
   "outputs": [],
   "source": [
    "data = pd.DataFrame(data=data, index=time)"
   ]
  },
  {
   "cell_type": "code",
   "execution_count": 104,
   "id": "8e38fb2d",
   "metadata": {},
   "outputs": [
    {
     "data": {
      "text/html": [
       "<div>\n",
       "<style scoped>\n",
       "    .dataframe tbody tr th:only-of-type {\n",
       "        vertical-align: middle;\n",
       "    }\n",
       "\n",
       "    .dataframe tbody tr th {\n",
       "        vertical-align: top;\n",
       "    }\n",
       "\n",
       "    .dataframe thead th {\n",
       "        text-align: right;\n",
       "    }\n",
       "</style>\n",
       "<table border=\"1\" class=\"dataframe\">\n",
       "  <thead>\n",
       "    <tr style=\"text-align: right;\">\n",
       "      <th></th>\n",
       "      <th>0</th>\n",
       "    </tr>\n",
       "  </thead>\n",
       "  <tbody>\n",
       "    <tr>\n",
       "      <th>20170101</th>\n",
       "      <td>0.177340</td>\n",
       "    </tr>\n",
       "    <tr>\n",
       "      <th>20170102</th>\n",
       "      <td>0.243842</td>\n",
       "    </tr>\n",
       "    <tr>\n",
       "      <th>20170103</th>\n",
       "      <td>0.152709</td>\n",
       "    </tr>\n",
       "    <tr>\n",
       "      <th>20170104</th>\n",
       "      <td>0.110837</td>\n",
       "    </tr>\n",
       "    <tr>\n",
       "      <th>20170105</th>\n",
       "      <td>0.068966</td>\n",
       "    </tr>\n",
       "    <tr>\n",
       "      <th>...</th>\n",
       "      <td>...</td>\n",
       "    </tr>\n",
       "    <tr>\n",
       "      <th>20211227</th>\n",
       "      <td>0.056650</td>\n",
       "    </tr>\n",
       "    <tr>\n",
       "      <th>20211228</th>\n",
       "      <td>0.096059</td>\n",
       "    </tr>\n",
       "    <tr>\n",
       "      <th>20211229</th>\n",
       "      <td>0.118227</td>\n",
       "    </tr>\n",
       "    <tr>\n",
       "      <th>20211230</th>\n",
       "      <td>0.046798</td>\n",
       "    </tr>\n",
       "    <tr>\n",
       "      <th>20211231</th>\n",
       "      <td>0.034483</td>\n",
       "    </tr>\n",
       "  </tbody>\n",
       "</table>\n",
       "<p>1755 rows × 1 columns</p>\n",
       "</div>"
      ],
      "text/plain": [
       "                 0\n",
       "20170101  0.177340\n",
       "20170102  0.243842\n",
       "20170103  0.152709\n",
       "20170104  0.110837\n",
       "20170105  0.068966\n",
       "...            ...\n",
       "20211227  0.056650\n",
       "20211228  0.096059\n",
       "20211229  0.118227\n",
       "20211230  0.046798\n",
       "20211231  0.034483\n",
       "\n",
       "[1755 rows x 1 columns]"
      ]
     },
     "execution_count": 104,
     "metadata": {},
     "output_type": "execute_result"
    }
   ],
   "source": [
    "data"
   ]
  },
  {
   "cell_type": "code",
   "execution_count": null,
   "id": "c089f7ba",
   "metadata": {},
   "outputs": [],
   "source": [
    "# 기존 전체코드\n",
    "\n",
    "import pandas as pd\n",
    "from sklearn.preprocessing import MinMaxScaler\n",
    "from sklearn.model_selection import train_test_split\n",
    "import tensorflow as tf\n",
    "tf.random.set_seed(777) #하이퍼파라미터 튜닝을 위해 실행시 마다 변수가 같은 초기값 가지게 하기\n",
    "import numpy as np\n",
    "#matplotlib 패키지 한글 깨짐 처리 시작\n",
    "import matplotlib.pyplot as plt\n",
    "import platform\n",
    "if platform.system() == 'Darwin': #맥\n",
    "        plt.rc('font', family='AppleGothic') \n",
    "elif platform.system() == 'Windows': #윈도우\n",
    "        plt.rc('font', family='Malgun Gothic') \n",
    "elif platform.system() == 'Linux': #리눅스 (구글 콜랩)\n",
    "        #!wget \"https://www.wfonts.com/download/data/2016/06/13/malgun-gothic/malgun.ttf\"\n",
    "        #!mv malgun.ttf /usr/share/fonts/truetype/\n",
    "        #import matplotlib.font_manager as fm \n",
    "        #fm._rebuild() \n",
    "        plt.rc('font', family='Malgun Gothic') \n",
    "plt.rcParams['axes.unicode_minus'] = False #한글 폰트 사용시 마이너스 폰트 깨짐 해결\n",
    "#matplotlib 패키지 한글 깨짐 처리 끝\n",
    "%matplotlib inline\n",
    "\n",
    "def load_time_series_data(data, sequence_length):\n",
    "    #print(data.shape) #(1225, 1)\n",
    "    #print(sequence_length) #3\n",
    "    window_length = sequence_length + 1\n",
    "    x_data = []\n",
    "    y_data = []\n",
    "    for i in range(0, len(data) - window_length + 1): #0 1 2 3 4 5 6 7 8 9 | 10\n",
    "        window = data[i:i + window_length, :]\n",
    "        x_data.append(window[:-1, :])\n",
    "        y_data.append(window[-1, [-1]])\n",
    "    x_data = np.array(x_data)\n",
    "    y_data = np.array(y_data)\n",
    "    #print(x_data.shape) #(1222, 3, 1)\n",
    "    #print(y_data.shape) #(1222, 1)\n",
    "\n",
    "    return x_data, y_data\n",
    "\n",
    "##########데이터 로드\n",
    "\n",
    "df = pd.read_csv('서울시_기간별_시간평균_대기환경_정보_2020.04.csv', encoding='euc-kr')\n",
    "\n",
    "##########데이터 분석\n",
    "\n",
    "print(df.head())\n",
    "'''\n",
    "           측정일시  권역코드  권역명   측정소코드 측정소명  미세먼지 1시간(㎍/㎥)  미세먼지 24시간(㎍/㎥)  \\\n",
    "0  202004302300   100  도심권  111123  종로구             40              43   \n",
    "1  202004302300   100  도심권  111121   중구             31              41   \n",
    "2  202004302300   100  도심권  111131  용산구             41              40   \n",
    "3  202004302300   101  서북권  111181  은평구             32              37   \n",
    "4  202004302300   101  서북권  111201  마포구             34              34   \n",
    "\n",
    "   초미세먼지(㎍/㎥)  오존(ppm)  이산화질소농도(ppm)  일산화탄소농도(ppm)  아황산가스농도(ppm)  \n",
    "0          21    0.036         0.008           0.3         0.003  \n",
    "1          22    0.037         0.010           0.3         0.003  \n",
    "2          21    0.035         0.011           0.3         0.002  \n",
    "3          20    0.053         0.005           0.3         0.003  \n",
    "4          21    0.043         0.009           0.3         0.002  \n",
    "'''\n",
    "\n",
    "print(df.info())\n",
    "'''\n",
    "<class 'pandas.core.frame.DataFrame'>\n",
    "RangeIndex: 18000 entries, 0 to 17999\n",
    "Data columns (total 12 columns):\n",
    " #   Column          Non-Null Count  Dtype  \n",
    "---  ------          --------------  -----  \n",
    " 0   측정일시            18000 non-null  int64  \n",
    " 1   권역코드            18000 non-null  int64  \n",
    " 2   권역명             18000 non-null  object \n",
    " 3   측정소코드           18000 non-null  int64  \n",
    " 4   측정소명            18000 non-null  object \n",
    " 5   미세먼지 1시간(㎍/㎥)   18000 non-null  int64  \n",
    " 6   미세먼지 24시간(㎍/㎥)  18000 non-null  int64  \n",
    " 7   초미세먼지(㎍/㎥)      18000 non-null  int64  \n",
    " 8   오존(ppm)         18000 non-null  float64\n",
    " 9   이산화질소농도(ppm)    18000 non-null  float64\n",
    " 10  일산화탄소농도(ppm)    18000 non-null  float64\n",
    " 11  아황산가스농도(ppm)    18000 non-null  float64\n",
    "dtypes: float64(4), int64(6), object(2)\n",
    "memory usage: 1.6+ MB\n",
    "None\n",
    "'''\n",
    "\n",
    "print(df.describe())\n",
    "'''\n",
    "              측정일시          권역코드          측정소코드  미세먼지 1시간(㎍/㎥)  \\\n",
    "count  1.800000e+04  18000.000000   18000.000000   18000.000000   \n",
    "mean   2.020042e+11    102.240000  111211.040000      43.064389   \n",
    "std    8.655959e+04      1.209331      59.935282      23.236927   \n",
    "min    2.020040e+11    100.000000  111121.000000       0.000000   \n",
    "25%    2.020041e+11    102.000000  111152.000000      30.000000   \n",
    "50%    2.020042e+11    102.000000  111212.000000      40.000000   \n",
    "75%    2.020042e+11    103.000000  111262.000000      53.000000   \n",
    "max    2.020043e+11    104.000000  111311.000000     274.000000   \n",
    "\n",
    "       미세먼지 24시간(㎍/㎥)    초미세먼지(㎍/㎥)       오존(ppm)  이산화질소농도(ppm)  일산화탄소농도(ppm)  \\\n",
    "count    18000.000000  18000.000000  18000.000000  18000.000000  18000.000000   \n",
    "mean        42.828111     20.248889      0.035084      0.020677      0.406278   \n",
    "std         17.589308     10.657195      0.015251      0.011533      0.129552   \n",
    "min          0.000000      0.000000      0.000000      0.000000      0.000000   \n",
    "25%         32.000000     13.000000      0.026000      0.012000      0.300000   \n",
    "50%         41.000000     19.000000      0.035000      0.018000      0.400000   \n",
    "75%         52.000000     26.000000      0.044000      0.027000      0.500000   \n",
    "max        183.000000     71.000000      0.097000      0.081000      1.100000   \n",
    "\n",
    "       아황산가스농도(ppm)  \n",
    "count  18000.000000  \n",
    "mean       0.002890  \n",
    "std        0.000987  \n",
    "min        0.000000  \n",
    "25%        0.002000  \n",
    "50%        0.003000  \n",
    "75%        0.003000  \n",
    "max        0.017000  \n",
    "'''\n",
    "\n",
    "##########데이터 전처리\n",
    "\n",
    "df = df[df['측정소명'] == '강남구']\n",
    "df = df.sort_values(by='측정일시')\n",
    "\n",
    "data = df[['미세먼지 1시간(㎍/㎥)']].to_numpy()\n",
    "print(data.shape) #((720, 1)\n",
    "\n",
    "transformer = MinMaxScaler()\n",
    "data = transformer.fit_transform(data)\n",
    "\n",
    "sequence_length = 3\n",
    "x_data, y_data = load_time_series_data(data, sequence_length)\n",
    "x_data = x_data.reshape(len(x_data), -1)\n",
    "print(x_data.shape) #(717, 3)\n",
    "print(y_data.shape) #(717, 1)\n",
    "\n",
    "x_train, x_test, y_train, y_test = train_test_split(x_data, y_data, test_size=0.3, shuffle=False) #시각화를 위해 shuffle=False 옵션 사용\n",
    "print(x_train.shape) #((501, 3)\n",
    "print(y_train.shape) #(501, 1)\n",
    "print(x_test.shape) #(216, 3)\n",
    "print(y_test.shape) #(216, 1)\n",
    "\n",
    "##########모델 생성\n",
    "\n",
    "input = tf.keras.layers.Input(shape=(sequence_length,))\n",
    "net = tf.keras.layers.Dense(units=32, activation='relu')(input)\n",
    "net = tf.keras.layers.Dense(units=32, activation='relu')(net)\n",
    "net = tf.keras.layers.Dense(units=1)(net)\n",
    "model = tf.keras.models.Model(input, net)\n",
    "\n",
    "##########모델 학습\n",
    "\n",
    "model.compile(loss='mean_squared_error', optimizer='adam')\n",
    "\n",
    "model.fit(x_train, y_train, epochs=50, validation_data=(x_test, y_test)) \n",
    "\n",
    "##########모델 검증\n",
    "\n",
    "##########모델 예측                           \n",
    "\n",
    "def plot(data, y_predict_train, y_predict_test):\n",
    "    plt.plot(transformer.inverse_transform(data)[:, [-1]].flatten(), label='실제 종가')\n",
    "\n",
    "    y_predict_train = transformer.inverse_transform(y_predict_train)\n",
    "    y_predict_train_plot = np.empty_like(data[:, [0]])\n",
    "    y_predict_train_plot[:, :] = np.nan\n",
    "    y_predict_train_plot[sequence_length:len(y_predict_train) + sequence_length, :] = y_predict_train\n",
    "    plt.plot(y_predict_train_plot.flatten(), label='학습 데이터 예측 종가')\n",
    "\n",
    "    y_predict_test = transformer.inverse_transform(y_predict_test)\n",
    "    y_predict_test_plot = np.empty_like(data[:, [0]])\n",
    "    y_predict_test_plot[:, :] = np.nan\n",
    "    y_predict_test_plot[len(y_predict_train) + sequence_length:, :] = y_predict_test\n",
    "    plt.plot(y_predict_test_plot.flatten(), label='테스트 데이터 예측 종가')\n",
    "\n",
    "    plt.legend()\n",
    "    plt.show()\n",
    "\n",
    "y_predict_train = model.predict(x_train)\n",
    "y_predict_test = model.predict(x_test)\n",
    "plot(data, y_predict_train, y_predict_test)\n",
    "\n",
    "x_test = np.array([\n",
    "        [44, 49, 50]\n",
    "])\n",
    "x_test = x_test.reshape(-1, 1)\n",
    "x_test = transformer.transform(x_test)\n",
    "x_test = x_test.reshape(1, sequence_length)\n",
    "\n",
    "y_predict = model.predict(x_test)\n",
    "\n",
    "y_predict = transformer.inverse_transform(y_predict)\n",
    "print(y_predict[0][0]) #51.707638"
   ]
  }
 ],
 "metadata": {
  "kernelspec": {
   "display_name": "Python 3 (ipykernel)",
   "language": "python",
   "name": "python3"
  },
  "language_info": {
   "codemirror_mode": {
    "name": "ipython",
    "version": 3
   },
   "file_extension": ".py",
   "mimetype": "text/x-python",
   "name": "python",
   "nbconvert_exporter": "python",
   "pygments_lexer": "ipython3",
   "version": "3.9.0"
  },
  "nbTranslate": {
   "displayLangs": [
    "*"
   ],
   "hotkey": "alt-t",
   "langInMainMenu": true,
   "sourceLang": "en",
   "targetLang": "fr",
   "useGoogleTranslate": true
  },
  "toc": {
   "base_numbering": 1,
   "nav_menu": {},
   "number_sections": true,
   "sideBar": true,
   "skip_h1_title": false,
   "title_cell": "Table of Contents",
   "title_sidebar": "Contents",
   "toc_cell": false,
   "toc_position": {},
   "toc_section_display": true,
   "toc_window_display": false
  },
  "varInspector": {
   "cols": {
    "lenName": 16,
    "lenType": 16,
    "lenVar": 40
   },
   "kernels_config": {
    "python": {
     "delete_cmd_postfix": "",
     "delete_cmd_prefix": "del ",
     "library": "var_list.py",
     "varRefreshCmd": "print(var_dic_list())"
    },
    "r": {
     "delete_cmd_postfix": ") ",
     "delete_cmd_prefix": "rm(",
     "library": "var_list.r",
     "varRefreshCmd": "cat(var_dic_list()) "
    }
   },
   "types_to_exclude": [
    "module",
    "function",
    "builtin_function_or_method",
    "instance",
    "_Feature"
   ],
   "window_display": false
  }
 },
 "nbformat": 4,
 "nbformat_minor": 5
}
