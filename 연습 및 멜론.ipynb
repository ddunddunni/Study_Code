{
 "cells": [
  {
   "cell_type": "markdown",
   "id": "0a39eb61",
   "metadata": {},
   "source": [
    "## selenium과 드라이버 설치"
   ]
  },
  {
   "cell_type": "code",
   "execution_count": 2,
   "id": "23a3764b",
   "metadata": {},
   "outputs": [],
   "source": [
    "from selenium import webdriver"
   ]
  },
  {
   "cell_type": "code",
   "execution_count": 3,
   "id": "f56695b5",
   "metadata": {},
   "outputs": [],
   "source": [
    "driver = webdriver.Safari()"
   ]
  },
  {
   "cell_type": "markdown",
   "id": "4f0a2104",
   "metadata": {},
   "source": [
    "## 웹페이지 접속"
   ]
  },
  {
   "cell_type": "code",
   "execution_count": 3,
   "id": "98b22710",
   "metadata": {},
   "outputs": [],
   "source": [
    "utl = 'https://www.naver.com/'\n",
    "driver.get(utl)"
   ]
  },
  {
   "cell_type": "markdown",
   "id": "43076978",
   "metadata": {},
   "source": [
    "## 웹 페이지(HTML) 다운로드"
   ]
  },
  {
   "cell_type": "code",
   "execution_count": 4,
   "id": "d889d872",
   "metadata": {},
   "outputs": [],
   "source": [
    "html = driver.page_source"
   ]
  },
  {
   "cell_type": "markdown",
   "id": "c6ae4c3f",
   "metadata": {},
   "source": [
    "# BeautifulSoup을 이용한 정보 찾기"
   ]
  },
  {
   "cell_type": "code",
   "execution_count": 5,
   "id": "7ebedb1d",
   "metadata": {},
   "outputs": [],
   "source": [
    " # 2-40 HTML\n",
    "html = ''' \n",
    "<html>\n",
    "    <head>\n",
    "    </head>\n",
    "    <body>\n",
    "<h1> 우리동네시장</h1> <div class = 'sale'>\n",
    "<p id='fruits1' class='fruits'>\n",
    "<span class = 'name'> 바나나 </span>\n",
    "<span class = 'price'> 3000원 </span>\n",
    "<span class = 'inventory'> 500개 </span>\n",
    "<span class = 'store'> 가나다상회 </span>\n",
    "<a href = 'http://bit.ly/forPlaywithData' > 홈페이지 </a>\n",
    "</p> </div>\n",
    "            <div class = 'prepare'>\n",
    "                <p id='fruits2' class='fruits'>\n",
    "<span class ='name'> 파인애플 </span> </p>\n",
    "            </div>\n",
    "    </body>\n",
    "</html> \n",
    "'''"
   ]
  },
  {
   "cell_type": "code",
   "execution_count": 6,
   "id": "944d98eb",
   "metadata": {},
   "outputs": [
    {
     "data": {
      "text/plain": [
       "\" \\n<html>\\n   <head>\\n   </head>\\n   <body>\\n<h1> 우리동네시장</h1> <div class = 'sale'>\\n<p id='fruits1' class='fruits'>\\n<span class = 'name'> 바나나 </span>\\n<span class = 'price'> 3000원 </span>\\n<span class = 'inventory'> 500개 </span>\\n<span class = 'store'> 가나다상회 </span>\\n<a href = 'http://bit.ly/forPlaywithData' > 홈페이지 </a>\\n</p> </div>\\n           <div class = 'prepare'>\\n               <p id='fruits2' class='fruits'>\\n<span class ='name'> 파인애플 </span> </p>\\n           </div>\\n   </body>\\n</html> \\n\""
      ]
     },
     "execution_count": 6,
     "metadata": {},
     "output_type": "execute_result"
    }
   ],
   "source": [
    "html"
   ]
  },
  {
   "cell_type": "code",
   "execution_count": 8,
   "id": "770ab58e",
   "metadata": {},
   "outputs": [],
   "source": [
    "from bs4 import BeautifulSoup\n",
    "\n",
    "soup = BeautifulSoup(html, 'html.parser')"
   ]
  },
  {
   "cell_type": "markdown",
   "id": "fe8dcfdb",
   "metadata": {},
   "source": [
    "## HTML 정보 찾기"
   ]
  },
  {
   "cell_type": "markdown",
   "id": "9512643c",
   "metadata": {},
   "source": [
    "### 태그 속성 활용"
   ]
  },
  {
   "cell_type": "code",
   "execution_count": 16,
   "id": "1f3423ca",
   "metadata": {},
   "outputs": [],
   "source": [
    "# 태그명으로 태그 찾기\n",
    "\n",
    "tags_span = soup.select('span')\n",
    "tags_p = soup.select('p')"
   ]
  },
  {
   "cell_type": "code",
   "execution_count": 21,
   "id": "19eaaed9",
   "metadata": {},
   "outputs": [],
   "source": [
    "# id와 class로 태그 찾기\n",
    "ids_fruitsl = soup.select('#fruits1')\n",
    "class_price = soup.select('.price')\n",
    "tags_span_class_price = soup.select('span.price')"
   ]
  },
  {
   "cell_type": "markdown",
   "id": "307486c4",
   "metadata": {},
   "source": [
    "### 상위 구조 활용"
   ]
  },
  {
   "cell_type": "code",
   "execution_count": 22,
   "id": "74c173a7",
   "metadata": {},
   "outputs": [
    {
     "name": "stdout",
     "output_type": "stream",
     "text": [
      "[<span class=\"name\"> 바나나 </span>, <span class=\"name\"> 파인애플 </span>]\n"
     ]
    }
   ],
   "source": [
    "# 태그 구조로 위치 찾기 1\n",
    "tags_name = soup.select('span.name')\n",
    "print(tags_name)"
   ]
  },
  {
   "cell_type": "code",
   "execution_count": 25,
   "id": "040bdef3",
   "metadata": {},
   "outputs": [
    {
     "name": "stdout",
     "output_type": "stream",
     "text": [
      "[]\n"
     ]
    }
   ],
   "source": [
    "# 태그 구조로 위치 찾기 2\n",
    "tags_banana1 = soup.select('#fruitsl > span.name')\n",
    "print(tags_banana1)"
   ]
  },
  {
   "cell_type": "code",
   "execution_count": 24,
   "id": "96b39d8e",
   "metadata": {},
   "outputs": [
    {
     "name": "stdout",
     "output_type": "stream",
     "text": [
      "[<span class=\"name\"> 바나나 </span>]\n",
      "[<span class=\"name\"> 바나나 </span>]\n"
     ]
    }
   ],
   "source": [
    "# 태그 구조로 위치 찾기 3\n",
    "\n",
    "tags_banana2 = soup.select('div.sale > #fruits1 > span.name')\n",
    "tags_banana3 = soup.select('div.sale span.name')\n",
    "print(tags_banana2)\n",
    "print(tags_banana3)"
   ]
  },
  {
   "cell_type": "markdown",
   "id": "e8a25b8a",
   "metadata": {},
   "source": [
    "## 정보 가져오기"
   ]
  },
  {
   "cell_type": "markdown",
   "id": "5dde04d2",
   "metadata": {},
   "source": [
    "### 태그 그룹에서 하나의 태그만 선택하기"
   ]
  },
  {
   "cell_type": "code",
   "execution_count": 28,
   "id": "db4853f2",
   "metadata": {},
   "outputs": [
    {
     "name": "stdout",
     "output_type": "stream",
     "text": [
      "[<span class=\"name\"> 바나나 </span>, <span class=\"name\"> 파인애플 </span>]\n",
      "\n",
      "<span class=\"name\"> 바나나 </span>\n"
     ]
    }
   ],
   "source": [
    "# 태그 그룹에서 하나의 태그만 선택하기\n",
    "tags = soup.select('span.name')\n",
    "tag_1 = tags[0]       #인덱스 번호로 하나의 태그 지정하기\n",
    "\n",
    "print(tags)\n",
    "print()\n",
    "print(tag_1)\n"
   ]
  },
  {
   "cell_type": "code",
   "execution_count": 30,
   "id": "07d75e40",
   "metadata": {},
   "outputs": [
    {
     "name": "stdout",
     "output_type": "stream",
     "text": [
      "<span class=\"name\"> 바나나 </span>\n",
      "<span class=\"name\"> 파인애플 </span>\n"
     ]
    }
   ],
   "source": [
    "#태그 그룹에서 반복문으로 태그 하나씩 선택하기\n",
    "tags = soup.select('span.name')\n",
    "for tag in tags:\n",
    "    print(tag)"
   ]
  },
  {
   "cell_type": "markdown",
   "id": "8b186ec5",
   "metadata": {},
   "source": [
    "### 선택한 태그에서 정보 가져오기"
   ]
  },
  {
   "cell_type": "markdown",
   "id": "919e8b63",
   "metadata": {},
   "source": [
    "예제 2-49 태그에서 정보 가져오기 content = tag.text # 태그에서 화면에 보이는 텍스트 부분만 가져오기 attribute = tag['속성명'] # 태그 내 속성값 가져오\n",
    "기"
   ]
  },
  {
   "cell_type": "code",
   "execution_count": 33,
   "id": "f7d263eb",
   "metadata": {},
   "outputs": [
    {
     "name": "stdout",
     "output_type": "stream",
     "text": [
      " 홈페이지 \n",
      "http://bit.ly/forPlaywithData\n"
     ]
    }
   ],
   "source": [
    "# 선택한 태그에서 텍스트, 속성 값 가져오기\n",
    "tags = soup.select('a')\n",
    "tag = tags[0]\n",
    "content = tag.text\n",
    "print(content)\n",
    "\n",
    "link = tag['href']\n",
    "print(link)"
   ]
  },
  {
   "cell_type": "markdown",
   "id": "2d53aba2",
   "metadata": {},
   "source": [
    "# 멜론 노래 순위 정보 크롤링"
   ]
  },
  {
   "cell_type": "markdown",
   "id": "85d52e36",
   "metadata": {},
   "source": [
    "* 경로지정시 슬러시 (/) 사용\n",
    "* 역슬러시(\\) X : unicode 에러 발생 가능\n",
    "* 슬러시(/) O\n",
    "* 멜론 사이트 개편으로 인해, 크롤링 진행 코드가 변경되었습니다. (updated 2020.07.13)"
   ]
  },
  {
   "cell_type": "code",
   "execution_count": 2,
   "id": "ee98720c",
   "metadata": {},
   "outputs": [],
   "source": [
    "# 사파리드라이버 실행\n",
    "\n",
    "from selenium import webdriver\n",
    "driver = webdriver.Safari()"
   ]
  },
  {
   "cell_type": "code",
   "execution_count": 3,
   "id": "d25cb998",
   "metadata": {},
   "outputs": [],
   "source": [
    "# 멜론 인기차프 웹페이지 접속하기\n",
    "\n",
    "url = 'http://www.melon.com/chart/index.htm'\n",
    "driver.get(url)"
   ]
  },
  {
   "cell_type": "code",
   "execution_count": 4,
   "id": "fd5f71c6",
   "metadata": {},
   "outputs": [],
   "source": [
    "# HTML 다운로드 및 Beautifulsoup으로 읽기\n",
    "\n",
    "from bs4 import BeautifulSoup\n",
    "\n",
    "html = driver.page_source\n",
    "soup = BeautifulSoup(html, 'html.parser')      #html은 html언어"
   ]
  },
  {
   "cell_type": "markdown",
   "id": "02394109",
   "metadata": {},
   "source": [
    "웹에서 개발자모드에 들어가서 태그를 확인하여서 찾고 싶은 영역 전체를 덮는 tr 태그를 찾음!\n",
    "\n",
    "*태그를 클릭을 하면 형제태그들을 같이 볼 수 있다!"
   ]
  },
  {
   "cell_type": "code",
   "execution_count": 5,
   "id": "fc8bfd43",
   "metadata": {},
   "outputs": [
    {
     "name": "stdout",
     "output_type": "stream",
     "text": [
      "<tr>\n",
      "<th scope=\"col\">\n",
      "<div class=\"wrap t_right\"><input class=\"input_check d_checkall\" title=\"곡 목록 전체 선택\" type=\"checkbox\"/></div>\n",
      "</th>\n",
      "<th scope=\"col\">\n",
      "<div class=\"wrap t_center\"><span class=\"rank\">순위</span></div>\n",
      "</th>\n",
      "<th scope=\"col\">\n",
      "<div class=\"wrap none\">순위등락</div>\n",
      "</th>\n",
      "<th scope=\"col\">\n",
      "<div class=\"wrap none\">앨범이미지</div>\n",
      "</th>\n",
      "<th scope=\"col\">\n",
      "<div class=\"wrap none\">곡 상세가기</div>\n",
      "</th>\n",
      "<th scope=\"col\">\n",
      "<div class=\"wrap pd_l_12\">곡정보</div>\n",
      "</th>\n",
      "<th scope=\"col\">\n",
      "<div class=\"wrap pd_l_12\">앨범</div>\n",
      "</th>\n",
      "<th scope=\"col\">\n",
      "<div class=\"wrap pd_l_30\">좋아요</div>\n",
      "</th>\n",
      "<th scope=\"col\">\n",
      "<div class=\"wrap t_center\">듣기</div>\n",
      "</th>\n",
      "<th scope=\"col\">\n",
      "<div class=\"wrap t_center\">담기</div>\n",
      "</th>\n",
      "<th scope=\"col\">\n",
      "<div class=\"wrap t_center\">다운</div>\n",
      "</th>\n",
      "<th scope=\"col\">\n",
      "<div class=\"wrap t_center\">뮤비</div>\n",
      "</th>\n",
      "</tr>\n"
     ]
    }
   ],
   "source": [
    "# 100개의 노래 태그 찾기\n",
    "\n",
    "songs = soup.select('tr')\n",
    "len(songs)\n",
    "print(songs[0])"
   ]
  },
  {
   "cell_type": "code",
   "execution_count": null,
   "id": "3ee6287a",
   "metadata": {},
   "outputs": [],
   "source": [
    "# 100개의 곡을 찾고 싶으나, 101개의 태그 뭉치가 검색됨\n",
    "# 101개 중 첫번째 태그 뭉치(song[0])을 살펴보니 표에서 컬럼제목(곡정보/앨범/좋아요)을 나타내고 있음\n",
    "# 101개 중 첫번째 컬럼 제목, 두번째 부터 끝까지, 남은 100개는 노래 정보일 것으로 예쌍됨"
   ]
  },
  {
   "cell_type": "code",
   "execution_count": 6,
   "id": "31c36e6a",
   "metadata": {},
   "outputs": [
    {
     "name": "stdout",
     "output_type": "stream",
     "text": [
      "100\n"
     ]
    }
   ],
   "source": [
    "songs = soup.select('tr')[1:]     #첫번째는 제외하고, 두번째(인덱스번호 1)부터 끝까지만 선택\n",
    "print(len(songs))                  #100으로 정리하고 싶은 노래 개수에 맞게 선택됨 \n",
    "#print(songs[0])                    #그 중 첫번째 태그를 보니, 1위 곡으로 조회됨"
   ]
  },
  {
   "cell_type": "code",
   "execution_count": 8,
   "id": "36b75795",
   "metadata": {},
   "outputs": [],
   "source": [
    "# 한개의 곡 정보 지정하기\n",
    "song = songs[0]\n",
    "#print(song)"
   ]
  },
  {
   "cell_type": "code",
   "execution_count": 10,
   "id": "acf61ec3",
   "metadata": {},
   "outputs": [
    {
     "data": {
      "text/plain": [
       "6"
      ]
     },
     "execution_count": 10,
     "metadata": {},
     "output_type": "execute_result"
    }
   ],
   "source": [
    "# 곡 제목 찾기 1\n",
    "\n",
    "#soup 데이터 내에서 찾기 -> 페이지 전체 html\n",
    "#soup 데이터 찾기 -> 1곡 정보에서만 찾기\n",
    "\n",
    "title = song.select('a')      \n",
    "len(title)\n"
   ]
  },
  {
   "cell_type": "code",
   "execution_count": 22,
   "id": "bc032a67",
   "metadata": {},
   "outputs": [
    {
     "data": {
      "text/plain": [
       "2"
      ]
     },
     "execution_count": 22,
     "metadata": {},
     "output_type": "execute_result"
    }
   ],
   "source": [
    "# 곡 제목 찾기 2\n",
    "\n",
    "# 노래제목의 a태그 상위태그가 span태그\n",
    "\n",
    "title = song.select('span > a') \n",
    "len(title)"
   ]
  },
  {
   "cell_type": "code",
   "execution_count": 11,
   "id": "c364c34d",
   "metadata": {},
   "outputs": [
    {
     "data": {
      "text/plain": [
       "[<a href=\"javascript:melon.play.playSong('1000002721',34298499);\" title=\"리무진 (Feat. MINO) (Prod. GRAY) 재생\">리무진 (Feat. MINO) (Prod. GRAY)</a>]"
      ]
     },
     "execution_count": 11,
     "metadata": {},
     "output_type": "execute_result"
    }
   ],
   "source": [
    "# 곡 제목 찾기 3\n",
    "\n",
    "# 노래제목의 span태그 위에 div 태그가 있어서 찾았는데도 2개이다.\n",
    "# so 그래서 div에 있는 클래스를 이용한다!!\n",
    "\n",
    "title = song.select('div.ellipsis.rank01 > span > a')\n",
    "len(title)\n",
    "\n",
    "title"
   ]
  },
  {
   "cell_type": "code",
   "execution_count": 25,
   "id": "c7d366a2",
   "metadata": {},
   "outputs": [
    {
     "data": {
      "text/plain": [
       "'리무진 (Feat. MINO) (Prod. GRAY)'"
      ]
     },
     "execution_count": 25,
     "metadata": {},
     "output_type": "execute_result"
    }
   ],
   "source": [
    "# 곡 제목 가져오기\n",
    "# 꾸러미 포장기를 없앤다. [0]   ->  화면에 보이는 글만 가져오는것!!\n",
    "title = song.select('div.ellipsis.rank01 > span > a')[0].text\n",
    "title"
   ]
  },
  {
   "cell_type": "code",
   "execution_count": 27,
   "id": "d01f0999",
   "metadata": {},
   "outputs": [
    {
     "data": {
      "text/plain": [
       "1"
      ]
     },
     "execution_count": 27,
     "metadata": {},
     "output_type": "execute_result"
    }
   ],
   "source": [
    "# 가수 찾기\n",
    "singer = song.select('div.ellipsis.rank02 > a')\n",
    "len(singer)"
   ]
  },
  {
   "cell_type": "code",
   "execution_count": 28,
   "id": "e3b1e464",
   "metadata": {},
   "outputs": [
    {
     "data": {
      "text/plain": [
       "\"BE'O (비오)\""
      ]
     },
     "execution_count": 28,
     "metadata": {},
     "output_type": "execute_result"
    }
   ],
   "source": [
    "singer = song.select('div.ellipsis.rank02 > a')[0].text\n",
    "singer"
   ]
  },
  {
   "cell_type": "code",
   "execution_count": 29,
   "id": "79f8aab2",
   "metadata": {},
   "outputs": [
    {
     "name": "stdout",
     "output_type": "stream",
     "text": [
      "리무진 (Feat. MINO) (Prod. GRAY) | BE'O (비오)\n",
      "회전목마 (Feat. Zion.T, 원슈타인) (Prod. Slom) | sokodomo\n",
      "만남은 쉽고 이별은 어려워 (Feat. Leellamarz) (Prod. TOIL) | 베이식 (Basick)\n",
      "쉬어 (Feat. MINO) (Prod. GRAY) | 아넌딜라이트(Anandelight)\n",
      "Wake Up (Prod. 코드 쿤스트) | 개코\n",
      "strawberry moon | 아이유\n",
      "사랑은 늘 도망가 | 임영웅\n",
      "Savage | aespa\n",
      "다정히 내 이름을 부르면 | 경서예지\n",
      "STAY | The Kid LAROI\n",
      "신호등 | 이무진\n",
      "깐부 (Feat. 염따, ASH ISLAND) (Prod. TOIL) | 쿤타\n",
      "Next Level | aespa\n",
      "너를 생각해 | 주시크 (Joosiq)\n",
      "OHAYO MY NIGHT | 디핵 (D-Hack)\n",
      "My Universe | Coldplay\n",
      "이제 나만 믿어요 | 임영웅\n",
      "너와 나의 Memories | 염따\n",
      "Permission to Dance | 방탄소년단\n",
      "Reset (Feat. 개코, Kid Milli) (Prod. 코드 쿤스트) | SINCE\n",
      "Butter | 방탄소년단\n",
      "낙하 (with 아이유) | AKMU (악뮤)\n",
      "바라만 본다 | MSG워너비(M.O.M)\n",
      "TROUBLE (Prod. Slom) | Don Mills\n",
      "문득 | BE'O (비오)\n",
      "그대라는 사치 | 임영웅\n",
      "Dynamite | 방탄소년단\n",
      "Weekend | 태연 (TAEYEON)\n",
      "Peaches (Feat. Daniel Caesar & Giveon) | Justin Bieber\n",
      "다시 사랑한다면 (김필 Ver.) | 임영웅\n",
      "별빛 같은 나의 사랑아 | 임영웅\n",
      "Bad Habits | Ed Sheeran\n",
      "헤픈 우연 | 헤이즈 (Heize)\n",
      "잊었니 | 임영웅\n",
      "HERO | 임영웅\n",
      "고백 | 멜로망스\n",
      "끝사랑 | 임영웅\n",
      "Celebrity | 아이유\n",
      "라일락 | 아이유\n",
      "Bk Love | 임영웅\n",
      "이끼 (Feat. MINO, BOBBY) (Prod. MINO) | Mudd the student\n",
      "찰나가 영원이 될 때 (The Eternal Moment) | 마크툽 (MAKTUB)\n",
      "시간을 거슬러 (낮에 뜨는 달 X 케이윌) | 케이윌\n",
      "가시 (Prod. 코드 쿤스트) | 조광일\n",
      "밤하늘의 별을(2020) | 경서\n",
      "좋아좋아 | 조정석\n",
      "DUMB DUMB | 전소미\n",
      "사이렌 Remix (Feat. UNEDUCATED KID, Paul Blanco) | 호미들\n",
      "롤린 (Rollin') | 브레이브걸스\n",
      "어떻게 이별까지 사랑하겠어, 널 사랑하는 거지 | AKMU (악뮤)\n",
      "내 손을 잡아 | 아이유\n",
      "Queendom | Red Velvet (레드벨벳)\n",
      "나 그댈위해 시 한편을 쓰겠어 | 케이시 (Kassy)\n",
      "밝게 빛나는 별이 되어 비춰줄게 | 송이한\n",
      "SCIENTIST | TWICE (트와이스)\n",
      "추억은 만남보다 이별에 남아 | 정동하\n",
      "모든 날, 모든 순간 (Every day, Every Moment) | 폴킴\n",
      "비가 오는 날엔 (2021) | 헤이즈 (Heize)\n",
      "Dun Dun Dance | 오마이걸 (OH MY GIRL)\n",
      "Savage Love (Laxed - Siren Beat) (BTS Remix) | Jawsh 685\n",
      "작은 것들을 위한 시 (Boy With Luv) (Feat. Halsey) | 방탄소년단\n",
      "Off My Face | Justin Bieber\n",
      "비와 당신 | 이무진\n",
      "봄날 | 방탄소년단\n",
      "계단말고 엘리베이터 | 임영웅\n",
      "Blueming | 아이유\n",
      "Rock with you | 세븐틴\n",
      "ASAP | STAYC(스테이씨)\n",
      "오늘도 빛나는 너에게 (To You My Light) (Feat.이라온) | 마크툽 (MAKTUB)\n",
      "멜로디 | ASH ISLAND\n",
      "가을 우체국 앞에서 | 김대명\n",
      "XOXO | 전소미\n",
      "하루만 더 | 빅마마\n",
      "취기를 빌려 (취향저격 그녀 X 산들) | 산들\n",
      "그날에 나는 맘이 편했을까 | 이예준\n",
      "Lovesick Girls | BLACKPINK\n",
      "너는 내 세상이었어 | 볼빨간사춘기\n",
      "에잇(Prod.&Feat. SUGA of BTS) | 아이유\n",
      "Life Goes On | 방탄소년단\n",
      "METEOR | 창모 (CHANGMO)\n",
      "잠이 오질 않네요 | 장범준\n",
      "오래된 노래 | 스탠딩 에그\n",
      "가을 타나 봐 | 이무진\n",
      "흔들리는 꽃들 속에서 네 샴푸향이 느껴진거야 | 장범준\n",
      "다음생이 있다면 당신을 만나서 다시 사랑할래요 | 임재현\n",
      "색안경 (STEREOTYPE) | STAYC(스테이씨)\n",
      "Hey Mama (Feat. Nicki Minaj, Bebe Rexha & Afrojack) | David Guetta\n",
      "아로하 | 조정석\n",
      "어제 너는 나를 버렸어 | 10CM\n",
      "LOCO | ITZY (있지)\n",
      "모르겠어 | 어반자카파\n",
      "Santa Tell Me | Ariana Grande\n",
      "Cold Blooded | 제시 (Jessi)\n",
      "별거 없던 그 하루로 | 임창정\n",
      "그리워 그리워 | 이예준\n",
      "All I Want for Christmas Is You | Mariah Carey\n",
      "2002 | Anne-Marie\n",
      "여전히 아름다운지 | 세븐틴\n",
      "Timeless | SG 워너비\n",
      "I'm a 빛 | 화사 (Hwa Sa)\n"
     ]
    }
   ],
   "source": [
    "# 멜론 50위 노래순위 정보 가져오기\n",
    "\n",
    "for song in songs:\n",
    "    title = song.select('div.ellipsis.rank01 > span > a')[0].text\n",
    "    singer = song.select('div.ellipsis.rank02 > a')[0].text\n",
    "    print(title, singer, sep=' | ')"
   ]
  },
  {
   "cell_type": "code",
   "execution_count": 9,
   "id": "73714896",
   "metadata": {},
   "outputs": [
    {
     "name": "stderr",
     "output_type": "stream",
     "text": [
      "/var/folders/xx/_99p48vj7pg7bs_kpl7838_00000gn/T/ipykernel_52571/3173241786.py:7: DeprecationWarning: find_elements_by_* commands are deprecated. Please use find_elements() instead\n",
      "  songs = driver.find_elements_by_css_selector('tr')[1:]\n"
     ]
    },
    {
     "name": "stdout",
     "output_type": "stream",
     "text": [
      "리무진 (Feat. MINO) (Prod. GRAY) | BE'O (비오)\n",
      "회전목마 (Feat. Zion.T, 원슈타인) (Prod. Slom) | sokodomo\n",
      "만남은 쉽고 이별은 어려워 (Feat. Leellamarz) (Prod. TOIL) | 베이식 (Basick)\n",
      "쉬어 (Feat. MINO) (Prod. GRAY) | 아넌딜라이트(Anandelight)\n",
      "Wake Up (Prod. 코드 쿤스트) | 개코\n",
      "사랑은 늘 도망가 | 임영웅\n",
      "strawberry moon | 아이유\n",
      "Savage | aespa\n",
      "신호등 | 이무진\n",
      "다정히 내 이름을 부르면 | 경서예지\n",
      "STAY | The Kid LAROI\n",
      "깐부 (Feat. 염따, ASH ISLAND) (Prod. TOIL) | 쿤타\n",
      "Next Level | aespa\n",
      "너를 생각해 | 주시크 (Joosiq)\n",
      "MBTI (Feat. 쿠기 & 로꼬) (Prod. GRAY) | BE'O (비오)\n",
      "OHAYO MY NIGHT | 디핵 (D-Hack)\n",
      "My Universe | Coldplay\n",
      "이제 나만 믿어요 | 임영웅\n",
      "Permission to Dance | 방탄소년단\n",
      "Butter | 방탄소년단\n",
      "너와 나의 Memories | 염따\n",
      "낙하 (with 아이유) | AKMU (악뮤)\n",
      "Reset (Feat. 개코, Kid Milli) (Prod. 코드 쿤스트) | SINCE\n",
      "바라만 본다 | MSG워너비(M.O.M)\n",
      "문득 | BE'O (비오)\n",
      "그대라는 사치 | 임영웅\n",
      "08베이식 (Feat. 염따, punchnello) | 베이식 (Basick)\n",
      "Dynamite | 방탄소년단\n",
      "호우주의 (Feat. 개코, 넉살 (Nucksal)) (Prod. 코드 쿤스트) | 조광일\n",
      "Weekend | 태연 (TAEYEON)\n",
      "TROUBLE (Prod. Slom) | Don Mills\n",
      "다시 사랑한다면 (김필 Ver.) | 임영웅\n",
      "Peaches (Feat. Daniel Caesar & Giveon) | Justin Bieber\n",
      "별빛 같은 나의 사랑아 | 임영웅\n",
      "Bad Habits | Ed Sheeran\n",
      "잊었니 | 임영웅\n",
      "헤픈 우연 | 헤이즈 (Heize)\n",
      "불협화음 (Feat. AKMU) (Prod. GRAY) | Mudd the student\n",
      "HERO | 임영웅\n",
      "고백 | 멜로망스\n",
      "끝사랑 | 임영웅\n",
      "바래 (Feat. 정인) (Prod. TOIL) | 쿤타\n",
      "라일락 | 아이유\n",
      "Bk Love | 임영웅\n",
      "Celebrity | 아이유\n",
      "찰나가 영원이 될 때 (The Eternal Moment) | 마크툽 (MAKTUB)\n",
      "BE ! (Feat. 팔로알토, lIlBOI) (Prod. PEEJAY & Slom) | sokodomo\n",
      "밤하늘의 별을(2020) | 경서\n",
      "좋아좋아 | 조정석\n",
      "시간을 거슬러 (낮에 뜨는 달 X 케이윌) | 케이윌\n",
      "DUMB DUMB | 전소미\n",
      "이끼 (Feat. MINO, BOBBY) (Prod. MINO) | Mudd the student\n",
      "롤린 (Rollin') | 브레이브걸스\n",
      "사이렌 Remix (Feat. UNEDUCATED KID, Paul Blanco) | 호미들\n",
      "가시 (Prod. 코드 쿤스트) | 조광일\n",
      "FACE TIME (Feat. 기리보이, pH-1, 개코) (Prod. 코드 쿤스트) | SINCE\n",
      "내 손을 잡아 | 아이유\n",
      "어떻게 이별까지 사랑하겠어, 널 사랑하는 거지 | AKMU (악뮤)\n",
      "밝게 빛나는 별이 되어 비춰줄게 | 송이한\n",
      "Queendom | Red Velvet (레드벨벳)\n",
      "SCIENTIST | TWICE (트와이스)\n",
      "Dun Dun Dance | 오마이걸 (OH MY GIRL)\n",
      "나 그댈위해 시 한편을 쓰겠어 | 케이시 (Kassy)\n",
      "작은 것들을 위한 시 (Boy With Luv) (Feat. Halsey) | 방탄소년단\n",
      "모든 날, 모든 순간 (Every day, Every Moment) | 폴킴\n",
      "추억은 만남보다 이별에 남아 | 정동하\n",
      "Savage Love (Laxed - Siren Beat) (BTS Remix) | Jawsh 685\n",
      "비가 오는 날엔 (2021) | 헤이즈 (Heize)\n",
      "Off My Face | Justin Bieber\n",
      "봄날 | 방탄소년단\n",
      "계단말고 엘리베이터 | 임영웅\n",
      "비와 당신 | 이무진\n",
      "Blueming | 아이유\n",
      "높이 (Feat. 이하이) (Prod. GRAY) | 아넌딜라이트(Anandelight)\n",
      "그게 더 편할 것 같아 (N번째 연애 X 멜로망스) | 멜로망스\n",
      "Rock with you | 세븐틴\n",
      "가을 우체국 앞에서 | 김대명\n",
      "오늘도 빛나는 너에게 (To You My Light) (Feat.이라온) | 마크툽 (MAKTUB)\n",
      "ASAP | STAYC(스테이씨)\n",
      "하루만 더 | 빅마마\n",
      "XOXO | 전소미\n",
      "취기를 빌려 (취향저격 그녀 X 산들) | 산들\n",
      "너는 내 세상이었어 | 볼빨간사춘기\n",
      "Life Goes On | 방탄소년단\n",
      "멜로디 | ASH ISLAND\n",
      "가을 타나 봐 | 이무진\n",
      "그날에 나는 맘이 편했을까 | 이예준\n",
      "Lovesick Girls | BLACKPINK\n",
      "에잇(Prod.&Feat. SUGA of BTS) | 아이유\n",
      "Hey Mama (Feat. Nicki Minaj, Bebe Rexha & Afrojack) | David Guetta\n",
      "Santa Tell Me | Ariana Grande\n",
      "All I Want for Christmas Is You | Mariah Carey\n",
      "잠이 오질 않네요 | 장범준\n",
      "METEOR | 창모 (CHANGMO)\n",
      "다음생이 있다면 당신을 만나서 다시 사랑할래요 | 임재현\n",
      "색안경 (STEREOTYPE) | STAYC(스테이씨)\n",
      "오래된 노래 | 스탠딩 에그\n",
      "어제 너는 나를 버렸어 | 10CM\n",
      "흔들리는 꽃들 속에서 네 샴푸향이 느껴진거야 | 장범준\n",
      "LOCO | ITZY (있지)\n"
     ]
    }
   ],
   "source": [
    "# 멜론 인기차트 중 상위 50곡 크롤링 (selenium만 활용)\n",
    "\n",
    "driver = webdriver.Safari()\n",
    "url = 'https://www.melon.com/chart/index.htm'\n",
    "driver.get(url)\n",
    "\n",
    "songs = driver.find_elements_by_css_selector('tr')[1:]\n",
    "\n",
    "for song in songs:\n",
    "    title = song.find_elements_by_css_selector('div.ellipsis.rank01 > span > a')[0].text\n",
    "    singer = song.find_elements_by_css_selector('div.ellipsis.rank02 > a')[0].text\n",
    "    print(title, singer, sep = ' | ')"
   ]
  },
  {
   "cell_type": "markdown",
   "id": "5df2a0a4",
   "metadata": {},
   "source": [
    "## 유튜브 강의"
   ]
  },
  {
   "cell_type": "code",
   "execution_count": null,
   "id": "19f06364",
   "metadata": {},
   "outputs": [],
   "source": [
    "song_list = soup,select('tbody > tr')\n",
    "\n",
    "# tr 태그를 찾았는데 101개여서 상의 태그 > tr 태그를 하여서 100개를 맞춤!"
   ]
  }
 ],
 "metadata": {
  "kernelspec": {
   "display_name": "Python 3 (ipykernel)",
   "language": "python",
   "name": "python3"
  },
  "language_info": {
   "codemirror_mode": {
    "name": "ipython",
    "version": 3
   },
   "file_extension": ".py",
   "mimetype": "text/x-python",
   "name": "python",
   "nbconvert_exporter": "python",
   "pygments_lexer": "ipython3",
   "version": "3.8.2"
  },
  "toc": {
   "base_numbering": 1,
   "nav_menu": {},
   "number_sections": true,
   "sideBar": true,
   "skip_h1_title": false,
   "title_cell": "Table of Contents",
   "title_sidebar": "Contents",
   "toc_cell": false,
   "toc_position": {},
   "toc_section_display": true,
   "toc_window_display": false
  },
  "varInspector": {
   "cols": {
    "lenName": 16,
    "lenType": 16,
    "lenVar": 40
   },
   "kernels_config": {
    "python": {
     "delete_cmd_postfix": "",
     "delete_cmd_prefix": "del ",
     "library": "var_list.py",
     "varRefreshCmd": "print(var_dic_list())"
    },
    "r": {
     "delete_cmd_postfix": ") ",
     "delete_cmd_prefix": "rm(",
     "library": "var_list.r",
     "varRefreshCmd": "cat(var_dic_list()) "
    }
   },
   "types_to_exclude": [
    "module",
    "function",
    "builtin_function_or_method",
    "instance",
    "_Feature"
   ],
   "window_display": false
  }
 },
 "nbformat": 4,
 "nbformat_minor": 5
}
